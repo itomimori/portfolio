{
 "cells": [
  {
   "cell_type": "code",
   "execution_count": 1,
   "id": "8ec2e5ba",
   "metadata": {},
   "outputs": [
    {
     "name": "stdout",
     "output_type": "stream",
     "text": [
      "✅ Excelファイル 'virtual_databases.xlsx' を作成しました。\n"
     ]
    }
   ],
   "source": [
    "import pandas as pd\n",
    "from openpyxl import Workbook\n",
    "\n",
    "# 仮想データベースとテーブル構成\n",
    "database_structure = {\n",
    "    \"insurellm_hr\": {\n",
    "        \"employees\": [\"id\", \"name\", \"role\", \"department\", \"hire_date\"],\n",
    "        \"compensation\": [\"employee_id\", \"base_salary\", \"bonus\", \"total\"],\n",
    "        \"performance\": [\"employee_id\", \"year\", \"rating\", \"comments\"],\n",
    "        \"departments\": [\"id\", \"name\", \"manager_id\"],\n",
    "        \"attendance\": [\"employee_id\", \"date\", \"status\", \"remarks\"]\n",
    "    },\n",
    "    \"ai_toolkit\": {\n",
    "        \"tools\": [\"id\", \"name\", \"type\", \"provider\", \"description\"],\n",
    "        \"apis\": [\"id\", \"tool_id\", \"endpoint\", \"auth_type\", \"rate_limit\"],\n",
    "        \"benchmarks\": [\"tool_id\", \"task_type\", \"score\", \"notes\"],\n",
    "        \"usage_logs\": [\"tool_id\", \"timestamp\", \"user\", \"action\"],\n",
    "        \"feedback\": [\"tool_id\", \"user\", \"rating\", \"comment\"]\n",
    "    },\n",
    "    \"education_support\": {\n",
    "        \"students\": [\"id\", \"name\", \"age\", \"grade\", \"enrollment_date\"],\n",
    "        \"courses\": [\"id\", \"title\", \"category\", \"instructor\"],\n",
    "        \"progress\": [\"student_id\", \"course_id\", \"completion_rate\", \"last_access\"],\n",
    "        \"assessments\": [\"student_id\", \"course_id\", \"score\", \"feedback\"],\n",
    "        \"interventions\": [\"student_id\", \"type\", \"date\", \"notes\"]\n",
    "    },\n",
    "    \"workflow_optimizer\": {\n",
    "        \"projects\": [\"id\", \"title\", \"owner\", \"start_date\", \"status\"],\n",
    "        \"tasks\": [\"id\", \"project_id\", \"description\", \"assigned_to\", \"deadline\"],\n",
    "        \"metrics\": [\"project_id\", \"metric_name\", \"value\", \"timestamp\"],\n",
    "        \"tools_used\": [\"project_id\", \"tool_name\", \"purpose\", \"effectiveness\"],\n",
    "        \"issues\": [\"project_id\", \"description\", \"resolution\", \"resolved_date\"]\n",
    "    },\n",
    "    \"rag_knowledgebase\": {\n",
    "        \"documents\": [\"id\", \"title\", \"content\", \"source\", \"created_at\"],\n",
    "        \"chunks\": [\"doc_id\", \"chunk_id\", \"text\", \"embedding_vector\"],\n",
    "        \"metadata\": [\"doc_id\", \"author\", \"tags\", \"domain\", \"language\"],\n",
    "        \"queries\": [\"query_id\", \"text\", \"timestamp\", \"user_id\"],\n",
    "        \"retrieval_logs\": [\"query_id\", \"matched_chunk_id\", \"score\", \"response_time\"]\n",
    "    }\n",
    "}\n",
    "\n",
    "# Excelファイル作成\n",
    "with pd.ExcelWriter(\"virtual_databases.xlsx\", engine=\"openpyxl\") as writer:\n",
    "    for db_name, tables in database_structure.items():\n",
    "        rows = []\n",
    "        for table_name, columns in tables.items():\n",
    "            rows.append({\n",
    "                \"Table Name\": table_name,\n",
    "                \"Columns\": \", \".join(columns)\n",
    "            })\n",
    "        df = pd.DataFrame(rows)\n",
    "        df.to_excel(writer, sheet_name=db_name[:31], index=False)  \n",
    "\n",
    "print(\"✅ Excelファイル 'virtual_databases.xlsx' を作成しました。\")"
   ]
  },
  {
   "cell_type": "code",
   "execution_count": null,
   "id": "99415201-5d94-4e7c-8fe5-1c0cb21fdb9d",
   "metadata": {},
   "outputs": [],
   "source": []
  }
 ],
 "metadata": {
  "kernelspec": {
   "display_name": "Python 3 (ipykernel)",
   "language": "python",
   "name": "python3"
  },
  "language_info": {
   "codemirror_mode": {
    "name": "ipython",
    "version": 3
   },
   "file_extension": ".py",
   "mimetype": "text/x-python",
   "name": "python",
   "nbconvert_exporter": "python",
   "pygments_lexer": "ipython3",
   "version": "3.11.13"
  }
 },
 "nbformat": 4,
 "nbformat_minor": 5
}
