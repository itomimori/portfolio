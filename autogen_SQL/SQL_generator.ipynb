{
 "cells": [
  {
   "cell_type": "code",
   "execution_count": 1,
   "id": "557669d6-ccfa-43b6-b81f-ee420b8e0a44",
   "metadata": {},
   "outputs": [],
   "source": [
    "import os\n",
    "import json\n",
    "import gradio as gr\n",
    "import pandas as pd\n",
    "from dotenv import load_dotenv\n",
    "from langchain.document_loaders import TextLoader\n",
    "from langchain.schema import Document\n",
    "from langchain.document_loaders import TextLoader\n",
    "from langchain.text_splitter import CharacterTextSplitter\n",
    "from langchain.chains import ConversationalRetrievalChain\n",
    "from langchain.prompts import PromptTemplate\n",
    "from langchain_community.chat_models import ChatOpenAI\n",
    "from langchain.memory import ConversationBufferMemory\n",
    "from langchain_community.vectorstores import Chroma\n",
    "from langchain_openai import OpenAIEmbeddings\n",
    "from langchain_community.llms import HuggingFaceHub\n"
   ]
  },
  {
   "cell_type": "code",
   "execution_count": 2,
   "id": "6dbfae02-5806-4737-845b-53a43a7dc5a7",
   "metadata": {},
   "outputs": [],
   "source": [
    "load_dotenv(override=True)\n",
    "os.environ['OPENAI_API_KEY'] = os.getenv('OPENAI_API_KEY', 'your-key-if-not-using-env')"
   ]
  },
  {
   "cell_type": "code",
   "execution_count": 3,
   "id": "63565528-179c-4e78-8cf3-8bdd5f0e8aa0",
   "metadata": {},
   "outputs": [],
   "source": [
    "def load_all_schema_files(folder_path):\n",
    "    documents = []\n",
    "\n",
    "    for filename in os.listdir(folder_path):\n",
    "        file_path = os.path.join(folder_path, filename)\n",
    "        ext = os.path.splitext(filename)[1].lower()\n",
    "\n",
    "        if ext == \".md\":\n",
    "            loader = TextLoader(file_path, encoding=\"utf-8\")\n",
    "            docs = loader.load()\n",
    "            documents.extend(docs)\n",
    "\n",
    "        elif ext in [\".xls\", \".xlsx\"]:\n",
    "            df = pd.read_excel(file_path)\n",
    "            for _, row in df.iterrows():\n",
    "                content = \"\\n\".join([f\"{col}: {row[col]}\" for col in df.columns])\n",
    "                documents.append(Document(page_content=content))\n",
    "\n",
    "        else:\n",
    "            print(f\"Skipped unsupported file: {filename}\")\n",
    "\n",
    "    return documents"
   ]
  },
  {
   "cell_type": "code",
   "execution_count": 4,
   "id": "f27591e5-7470-45e1-addc-596a624a4bf3",
   "metadata": {},
   "outputs": [],
   "source": [
    "SCHEMA_FOLDER_PATH = r\"C:your-database-path\"  # フォルダ名を指定\n",
    "\n",
    "if not os.path.exists(SCHEMA_FOLDER_PATH):\n",
    "    print(f\"Error: Folder '{SCHEMA_FOLDER_PATH}' not found.\")\n",
    "    exit()\n",
    "\n",
    "schema_documents = load_all_schema_files(SCHEMA_FOLDER_PATH)"
   ]
  },
  {
   "cell_type": "code",
   "execution_count": 5,
   "id": "b1e3dbb2-97b0-4d14-97a3-30dc414350fb",
   "metadata": {},
   "outputs": [],
   "source": [
    "SYSTEM_PROMPT = \"\"\"\n",
    "You are a skilled SQL engineer. Based on the table schema information below and the user's question, generate an appropriate SQL query.\n",
    "\n",
    "Guidelines:\n",
    "- Output only the SQL query. Do not include any explanations or additional text.\n",
    "- Use JOIN clauses where foreign key relationships exist.\n",
    "- Select the most relevant columns and tables to fulfill the user's request.\n",
    "\n",
    "Schema Information:\n",
    "{context}\n",
    "\n",
    "Question:\n",
    "{question}\n",
    "\"\"\"\n",
    "PROMPT_TEMPLATE = PromptTemplate(\n",
    "    input_variables=[\"context\", \"question\"],\n",
    "    template=SYSTEM_PROMPT\n",
    ")\n"
   ]
  },
  {
   "cell_type": "code",
   "execution_count": 7,
   "id": "d430b48c-6cc5-4606-84cd-0758eca11c3e",
   "metadata": {},
   "outputs": [
    {
     "name": "stderr",
     "output_type": "stream",
     "text": [
      "C:\\Users\\itomi\\AppData\\Local\\Temp\\ipykernel_22628\\4035724350.py:7: LangChainDeprecationWarning: The class `ChatOpenAI` was deprecated in LangChain 0.0.10 and will be removed in 1.0. An updated version of the class exists in the :class:`~langchain-openai package and should be used instead. To use it run `pip install -U :class:`~langchain-openai` and import as `from :class:`~langchain_openai import ChatOpenAI``.\n",
      "  llm = ChatOpenAI(model_name=\"gpt-4o-mini\", temperature=0.7)\n"
     ]
    }
   ],
   "source": [
    "text_splitter = CharacterTextSplitter(chunk_size=1000, chunk_overlap=0)\n",
    "schema_chunks = text_splitter.split_documents(schema_documents)\n",
    "embedding_function = OpenAIEmbeddings()\n",
    "db = Chroma.from_documents(schema_chunks, embedding_function)\n",
    "retriever = db.as_retriever()\n",
    "\n",
    "llm = ChatOpenAI(model_name=\"gpt-4o-mini\", temperature=0.7)"
   ]
  },
  {
   "cell_type": "code",
   "execution_count": 8,
   "id": "234ebe75-aa70-45bb-8ee8-5fc1efdb9f70",
   "metadata": {},
   "outputs": [],
   "source": [
    "# --- Gradio UIのための関数定義 ---\n",
    "def generate_sql_chat(user_question, chat_history):\n",
    "    # スキーマ情報から関連するチャンクを検索\n",
    "    relevant_schemas = retriever.get_relevant_documents(user_question)\n",
    "    schema_context = \"\\n\".join([doc.page_content for doc in relevant_schemas])\n",
    "    \n",
    "    # プロンプトを構築\n",
    "    prompt_with_context = PROMPT_TEMPLATE.format(context=schema_context, question=user_question)\n",
    "\n",
    "    # LLMを呼び出してSQLを生成\n",
    "    response = llm.invoke(prompt_with_context)\n",
    "    \n",
    "    # Gradioは文字列で返す\n",
    "    return response.content.strip()"
   ]
  },
  {
   "cell_type": "code",
   "execution_count": 9,
   "id": "e24674cf-149b-4503-9f92-af94e2785ea2",
   "metadata": {},
   "outputs": [
    {
     "name": "stderr",
     "output_type": "stream",
     "text": [
      "C:\\Users\\itomi\\AppData\\Local\\Temp\\ipykernel_22628\\1113815372.py:6: UserWarning: You have not specified a value for the `type` parameter. Defaulting to the 'tuples' format for chatbot messages, but this is deprecated and will be removed in a future version of Gradio. Please set type='messages' instead, which uses openai-style dictionaries with 'role' and 'content' keys.\n",
      "  chatbot = gr.Chatbot()\n"
     ]
    }
   ],
   "source": [
    "# Gradioインターフェースの設定\n",
    "with gr.Blocks(theme=gr.themes.Monochrome()) as demo:\n",
    "    gr.Markdown(\"# SQL生成AIアシスタント\")\n",
    "    gr.Markdown(\"データ分析の質問を入力すると、SQLクエリを自動で生成します。\")\n",
    "    \n",
    "    chatbot = gr.Chatbot()\n",
    "    msg = gr.Textbox(label=\"質問を入力\")\n",
    "    \n",
    "    def respond(message, chat_history):\n",
    "        # AIからの応答を取得\n",
    "        sql_query = generate_sql_chat(message, chat_history)\n",
    "        \n",
    "        # SQLをコードブロックとしてフォーマット\n",
    "        formatted_sql = f\"```sql\\n{sql_query}\\n```\"\n",
    "        \n",
    "        # チャット履歴に追加\n",
    "        chat_history.append((message, formatted_sql))\n",
    "        return \"\", chat_history\n",
    "    \n",
    "    msg.submit(fn=respond, inputs=[msg, chatbot], outputs=[msg, chatbot])"
   ]
  },
  {
   "cell_type": "code",
   "execution_count": 10,
   "id": "f53c62d7-ca4c-4259-aa7e-1246d765c3f2",
   "metadata": {},
   "outputs": [
    {
     "name": "stdout",
     "output_type": "stream",
     "text": [
      "* Running on local URL:  http://127.0.0.1:7860\n",
      "* To create a public link, set `share=True` in `launch()`.\n"
     ]
    },
    {
     "data": {
      "text/html": [
       "<div><iframe src=\"http://127.0.0.1:7860/\" width=\"100%\" height=\"500\" allow=\"autoplay; camera; microphone; clipboard-read; clipboard-write;\" frameborder=\"0\" allowfullscreen></iframe></div>"
      ],
      "text/plain": [
       "<IPython.core.display.HTML object>"
      ]
     },
     "metadata": {},
     "output_type": "display_data"
    },
    {
     "data": {
      "text/plain": []
     },
     "execution_count": 10,
     "metadata": {},
     "output_type": "execute_result"
    },
    {
     "name": "stderr",
     "output_type": "stream",
     "text": [
      "C:\\Users\\itomi\\AppData\\Local\\Temp\\ipykernel_22628\\134636024.py:4: LangChainDeprecationWarning: The method `BaseRetriever.get_relevant_documents` was deprecated in langchain-core 0.1.46 and will be removed in 1.0. Use :meth:`~invoke` instead.\n",
      "  relevant_schemas = retriever.get_relevant_documents(user_question)\n"
     ]
    }
   ],
   "source": [
    "# サーバーを起動\n",
    "demo.launch()"
   ]
  },
  {
   "cell_type": "code",
   "execution_count": null,
   "id": "9e2cc71c-69ab-4080-8b06-cca12ba1fc4c",
   "metadata": {},
   "outputs": [],
   "source": []
  }
 ],
 "metadata": {
  "kernelspec": {
   "display_name": "Python 3 (ipykernel)",
   "language": "python",
   "name": "python3"
  },
  "language_info": {
   "codemirror_mode": {
    "name": "ipython",
    "version": 3
   },
   "file_extension": ".py",
   "mimetype": "text/x-python",
   "name": "python",
   "nbconvert_exporter": "python",
   "pygments_lexer": "ipython3",
   "version": "3.11.13"
  }
 },
 "nbformat": 4,
 "nbformat_minor": 5
}
