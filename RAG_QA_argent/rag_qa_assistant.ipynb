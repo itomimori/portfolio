{
 "cells": [
  {
   "cell_type": "code",
   "execution_count": 46,
   "id": "4e84dcb2-3cf5-4847-b1f1-a9e658acc307",
   "metadata": {
    "scrolled": true
   },
   "outputs": [
    {
     "name": "stdout",
     "output_type": "stream",
     "text": [
      "Requirement already satisfied: pypdf in c:\\users\\itomi\\anaconda3\\envs\\llms\\lib\\site-packages (6.0.0)\n",
      "Requirement already satisfied: docx2txt in c:\\users\\itomi\\anaconda3\\envs\\llms\\lib\\site-packages (0.9)\n",
      "Requirement already satisfied: unstructured in c:\\users\\itomi\\anaconda3\\envs\\llms\\lib\\site-packages (0.18.14)\n",
      "Requirement already satisfied: msoffcrypto-tool in c:\\users\\itomi\\anaconda3\\envs\\llms\\lib\\site-packages (5.4.2)\n",
      "Requirement already satisfied: openpyxl in c:\\users\\itomi\\anaconda3\\envs\\llms\\lib\\site-packages (3.1.5)\n",
      "Requirement already satisfied: charset-normalizer in c:\\users\\itomi\\anaconda3\\envs\\llms\\lib\\site-packages (from unstructured) (3.4.3)\n",
      "Requirement already satisfied: filetype in c:\\users\\itomi\\anaconda3\\envs\\llms\\lib\\site-packages (from unstructured) (1.2.0)\n",
      "Requirement already satisfied: python-magic in c:\\users\\itomi\\anaconda3\\envs\\llms\\lib\\site-packages (from unstructured) (0.4.27)\n",
      "Requirement already satisfied: lxml in c:\\users\\itomi\\anaconda3\\envs\\llms\\lib\\site-packages (from unstructured) (6.0.1)\n",
      "Requirement already satisfied: nltk in c:\\users\\itomi\\anaconda3\\envs\\llms\\lib\\site-packages (from unstructured) (3.9.1)\n",
      "Requirement already satisfied: requests in c:\\users\\itomi\\anaconda3\\envs\\llms\\lib\\site-packages (from unstructured) (2.32.5)\n",
      "Requirement already satisfied: beautifulsoup4 in c:\\users\\itomi\\anaconda3\\envs\\llms\\lib\\site-packages (from unstructured) (4.13.5)\n",
      "Requirement already satisfied: emoji in c:\\users\\itomi\\anaconda3\\envs\\llms\\lib\\site-packages (from unstructured) (2.14.1)\n",
      "Requirement already satisfied: dataclasses-json in c:\\users\\itomi\\anaconda3\\envs\\llms\\lib\\site-packages (from unstructured) (0.6.7)\n",
      "Requirement already satisfied: python-iso639 in c:\\users\\itomi\\anaconda3\\envs\\llms\\lib\\site-packages (from unstructured) (2025.2.18)\n",
      "Requirement already satisfied: langdetect in c:\\users\\itomi\\anaconda3\\envs\\llms\\lib\\site-packages (from unstructured) (1.0.9)\n",
      "Requirement already satisfied: numpy in c:\\users\\itomi\\anaconda3\\envs\\llms\\lib\\site-packages (from unstructured) (1.26.4)\n",
      "Requirement already satisfied: rapidfuzz in c:\\users\\itomi\\anaconda3\\envs\\llms\\lib\\site-packages (from unstructured) (3.14.0)\n",
      "Requirement already satisfied: backoff in c:\\users\\itomi\\anaconda3\\envs\\llms\\lib\\site-packages (from unstructured) (2.2.1)\n",
      "Requirement already satisfied: typing-extensions in c:\\users\\itomi\\anaconda3\\envs\\llms\\lib\\site-packages (from unstructured) (4.14.1)\n",
      "Requirement already satisfied: unstructured-client in c:\\users\\itomi\\anaconda3\\envs\\llms\\lib\\site-packages (from unstructured) (0.42.3)\n",
      "Requirement already satisfied: wrapt in c:\\users\\itomi\\anaconda3\\envs\\llms\\lib\\site-packages (from unstructured) (1.17.3)\n",
      "Requirement already satisfied: tqdm in c:\\users\\itomi\\anaconda3\\envs\\llms\\lib\\site-packages (from unstructured) (4.67.1)\n",
      "Requirement already satisfied: psutil in c:\\users\\itomi\\anaconda3\\envs\\llms\\lib\\site-packages (from unstructured) (7.0.0)\n",
      "Requirement already satisfied: python-oxmsg in c:\\users\\itomi\\anaconda3\\envs\\llms\\lib\\site-packages (from unstructured) (0.0.2)\n",
      "Requirement already satisfied: html5lib in c:\\users\\itomi\\anaconda3\\envs\\llms\\lib\\site-packages (from unstructured) (1.1)\n",
      "Requirement already satisfied: cryptography>=39.0 in c:\\users\\itomi\\anaconda3\\envs\\llms\\lib\\site-packages (from msoffcrypto-tool) (45.0.6)\n",
      "Requirement already satisfied: olefile>=0.46 in c:\\users\\itomi\\anaconda3\\envs\\llms\\lib\\site-packages (from msoffcrypto-tool) (0.47)\n",
      "Requirement already satisfied: et-xmlfile in c:\\users\\itomi\\anaconda3\\envs\\llms\\lib\\site-packages (from openpyxl) (2.0.0)\n",
      "Requirement already satisfied: cffi>=1.14 in c:\\users\\itomi\\anaconda3\\envs\\llms\\lib\\site-packages (from cryptography>=39.0->msoffcrypto-tool) (1.17.1)\n",
      "Requirement already satisfied: pycparser in c:\\users\\itomi\\anaconda3\\envs\\llms\\lib\\site-packages (from cffi>=1.14->cryptography>=39.0->msoffcrypto-tool) (2.22)\n",
      "Requirement already satisfied: soupsieve>1.2 in c:\\users\\itomi\\anaconda3\\envs\\llms\\lib\\site-packages (from beautifulsoup4->unstructured) (2.7)\n",
      "Requirement already satisfied: marshmallow<4.0.0,>=3.18.0 in c:\\users\\itomi\\anaconda3\\envs\\llms\\lib\\site-packages (from dataclasses-json->unstructured) (3.26.1)\n",
      "Requirement already satisfied: typing-inspect<1,>=0.4.0 in c:\\users\\itomi\\anaconda3\\envs\\llms\\lib\\site-packages (from dataclasses-json->unstructured) (0.9.0)\n",
      "Requirement already satisfied: packaging>=17.0 in c:\\users\\itomi\\anaconda3\\envs\\llms\\lib\\site-packages (from marshmallow<4.0.0,>=3.18.0->dataclasses-json->unstructured) (25.0)\n",
      "Requirement already satisfied: mypy-extensions>=0.3.0 in c:\\users\\itomi\\anaconda3\\envs\\llms\\lib\\site-packages (from typing-inspect<1,>=0.4.0->dataclasses-json->unstructured) (1.1.0)\n",
      "Requirement already satisfied: six>=1.9 in c:\\users\\itomi\\anaconda3\\envs\\llms\\lib\\site-packages (from html5lib->unstructured) (1.17.0)\n",
      "Requirement already satisfied: webencodings in c:\\users\\itomi\\anaconda3\\envs\\llms\\lib\\site-packages (from html5lib->unstructured) (0.5.1)\n",
      "Requirement already satisfied: click in c:\\users\\itomi\\anaconda3\\envs\\llms\\lib\\site-packages (from nltk->unstructured) (8.1.8)\n",
      "Requirement already satisfied: joblib in c:\\users\\itomi\\anaconda3\\envs\\llms\\lib\\site-packages (from nltk->unstructured) (1.5.1)\n",
      "Requirement already satisfied: regex>=2021.8.3 in c:\\users\\itomi\\anaconda3\\envs\\llms\\lib\\site-packages (from nltk->unstructured) (2025.7.34)\n",
      "Requirement already satisfied: colorama in c:\\users\\itomi\\anaconda3\\envs\\llms\\lib\\site-packages (from click->nltk->unstructured) (0.4.6)\n",
      "Requirement already satisfied: idna<4,>=2.5 in c:\\users\\itomi\\anaconda3\\envs\\llms\\lib\\site-packages (from requests->unstructured) (3.10)\n",
      "Requirement already satisfied: urllib3<3,>=1.21.1 in c:\\users\\itomi\\anaconda3\\envs\\llms\\lib\\site-packages (from requests->unstructured) (2.5.0)\n",
      "Requirement already satisfied: certifi>=2017.4.17 in c:\\users\\itomi\\anaconda3\\envs\\llms\\lib\\site-packages (from requests->unstructured) (2025.8.3)\n",
      "Requirement already satisfied: aiofiles>=24.1.0 in c:\\users\\itomi\\anaconda3\\envs\\llms\\lib\\site-packages (from unstructured-client->unstructured) (24.1.0)\n",
      "Requirement already satisfied: httpcore>=1.0.9 in c:\\users\\itomi\\anaconda3\\envs\\llms\\lib\\site-packages (from unstructured-client->unstructured) (1.0.9)\n",
      "Requirement already satisfied: httpx>=0.27.0 in c:\\users\\itomi\\anaconda3\\envs\\llms\\lib\\site-packages (from unstructured-client->unstructured) (0.27.2)\n",
      "Requirement already satisfied: pydantic>=2.11.2 in c:\\users\\itomi\\anaconda3\\envs\\llms\\lib\\site-packages (from unstructured-client->unstructured) (2.11.7)\n",
      "Requirement already satisfied: requests-toolbelt>=1.0.0 in c:\\users\\itomi\\anaconda3\\envs\\llms\\lib\\site-packages (from unstructured-client->unstructured) (1.0.0)\n",
      "Requirement already satisfied: h11>=0.16 in c:\\users\\itomi\\anaconda3\\envs\\llms\\lib\\site-packages (from httpcore>=1.0.9->unstructured-client->unstructured) (0.16.0)\n",
      "Requirement already satisfied: anyio in c:\\users\\itomi\\anaconda3\\envs\\llms\\lib\\site-packages (from httpx>=0.27.0->unstructured-client->unstructured) (4.10.0)\n",
      "Requirement already satisfied: sniffio in c:\\users\\itomi\\anaconda3\\envs\\llms\\lib\\site-packages (from httpx>=0.27.0->unstructured-client->unstructured) (1.3.1)\n",
      "Requirement already satisfied: annotated-types>=0.6.0 in c:\\users\\itomi\\anaconda3\\envs\\llms\\lib\\site-packages (from pydantic>=2.11.2->unstructured-client->unstructured) (0.7.0)\n",
      "Requirement already satisfied: pydantic-core==2.33.2 in c:\\users\\itomi\\anaconda3\\envs\\llms\\lib\\site-packages (from pydantic>=2.11.2->unstructured-client->unstructured) (2.33.2)\n",
      "Requirement already satisfied: typing-inspection>=0.4.0 in c:\\users\\itomi\\anaconda3\\envs\\llms\\lib\\site-packages (from pydantic>=2.11.2->unstructured-client->unstructured) (0.4.1)\n",
      "Collecting langgraph\n",
      "  Downloading langgraph-0.6.7-py3-none-any.whl.metadata (6.8 kB)\n",
      "Requirement already satisfied: langchain-core>=0.1 in c:\\users\\itomi\\anaconda3\\envs\\llms\\lib\\site-packages (from langgraph) (0.3.74)\n",
      "Collecting langgraph-checkpoint<3.0.0,>=2.1.0 (from langgraph)\n",
      "  Downloading langgraph_checkpoint-2.1.1-py3-none-any.whl.metadata (4.2 kB)\n",
      "Collecting langgraph-prebuilt<0.7.0,>=0.6.0 (from langgraph)\n",
      "  Downloading langgraph_prebuilt-0.6.4-py3-none-any.whl.metadata (4.5 kB)\n",
      "Collecting langgraph-sdk<0.3.0,>=0.2.2 (from langgraph)\n",
      "  Downloading langgraph_sdk-0.2.6-py3-none-any.whl.metadata (1.5 kB)\n",
      "Requirement already satisfied: pydantic>=2.7.4 in c:\\users\\itomi\\anaconda3\\envs\\llms\\lib\\site-packages (from langgraph) (2.11.7)\n",
      "Requirement already satisfied: xxhash>=3.5.0 in c:\\users\\itomi\\anaconda3\\envs\\llms\\lib\\site-packages (from langgraph) (3.5.0)\n",
      "Collecting ormsgpack>=1.10.0 (from langgraph-checkpoint<3.0.0,>=2.1.0->langgraph)\n",
      "  Downloading ormsgpack-1.10.0-cp311-cp311-win_amd64.whl.metadata (44 kB)\n",
      "Requirement already satisfied: httpx>=0.25.2 in c:\\users\\itomi\\anaconda3\\envs\\llms\\lib\\site-packages (from langgraph-sdk<0.3.0,>=0.2.2->langgraph) (0.27.2)\n",
      "Requirement already satisfied: orjson>=3.10.1 in c:\\users\\itomi\\anaconda3\\envs\\llms\\lib\\site-packages (from langgraph-sdk<0.3.0,>=0.2.2->langgraph) (3.11.2)\n",
      "Requirement already satisfied: anyio in c:\\users\\itomi\\anaconda3\\envs\\llms\\lib\\site-packages (from httpx>=0.25.2->langgraph-sdk<0.3.0,>=0.2.2->langgraph) (4.10.0)\n",
      "Requirement already satisfied: certifi in c:\\users\\itomi\\anaconda3\\envs\\llms\\lib\\site-packages (from httpx>=0.25.2->langgraph-sdk<0.3.0,>=0.2.2->langgraph) (2025.8.3)\n",
      "Requirement already satisfied: httpcore==1.* in c:\\users\\itomi\\anaconda3\\envs\\llms\\lib\\site-packages (from httpx>=0.25.2->langgraph-sdk<0.3.0,>=0.2.2->langgraph) (1.0.9)\n",
      "Requirement already satisfied: idna in c:\\users\\itomi\\anaconda3\\envs\\llms\\lib\\site-packages (from httpx>=0.25.2->langgraph-sdk<0.3.0,>=0.2.2->langgraph) (3.10)\n",
      "Requirement already satisfied: sniffio in c:\\users\\itomi\\anaconda3\\envs\\llms\\lib\\site-packages (from httpx>=0.25.2->langgraph-sdk<0.3.0,>=0.2.2->langgraph) (1.3.1)\n",
      "Requirement already satisfied: h11>=0.16 in c:\\users\\itomi\\anaconda3\\envs\\llms\\lib\\site-packages (from httpcore==1.*->httpx>=0.25.2->langgraph-sdk<0.3.0,>=0.2.2->langgraph) (0.16.0)\n",
      "Requirement already satisfied: langsmith>=0.3.45 in c:\\users\\itomi\\anaconda3\\envs\\llms\\lib\\site-packages (from langchain-core>=0.1->langgraph) (0.4.16)\n",
      "Requirement already satisfied: tenacity!=8.4.0,<10.0.0,>=8.1.0 in c:\\users\\itomi\\anaconda3\\envs\\llms\\lib\\site-packages (from langchain-core>=0.1->langgraph) (9.1.2)\n",
      "Requirement already satisfied: jsonpatch<2.0,>=1.33 in c:\\users\\itomi\\anaconda3\\envs\\llms\\lib\\site-packages (from langchain-core>=0.1->langgraph) (1.33)\n",
      "Requirement already satisfied: PyYAML>=5.3 in c:\\users\\itomi\\anaconda3\\envs\\llms\\lib\\site-packages (from langchain-core>=0.1->langgraph) (6.0.2)\n",
      "Requirement already satisfied: typing-extensions>=4.7 in c:\\users\\itomi\\anaconda3\\envs\\llms\\lib\\site-packages (from langchain-core>=0.1->langgraph) (4.14.1)\n",
      "Requirement already satisfied: packaging>=23.2 in c:\\users\\itomi\\anaconda3\\envs\\llms\\lib\\site-packages (from langchain-core>=0.1->langgraph) (25.0)\n",
      "Requirement already satisfied: jsonpointer>=1.9 in c:\\users\\itomi\\anaconda3\\envs\\llms\\lib\\site-packages (from jsonpatch<2.0,>=1.33->langchain-core>=0.1->langgraph) (3.0.0)\n",
      "Requirement already satisfied: requests-toolbelt>=1.0.0 in c:\\users\\itomi\\anaconda3\\envs\\llms\\lib\\site-packages (from langsmith>=0.3.45->langchain-core>=0.1->langgraph) (1.0.0)\n",
      "Requirement already satisfied: requests>=2.0.0 in c:\\users\\itomi\\anaconda3\\envs\\llms\\lib\\site-packages (from langsmith>=0.3.45->langchain-core>=0.1->langgraph) (2.32.5)\n",
      "Requirement already satisfied: zstandard>=0.23.0 in c:\\users\\itomi\\anaconda3\\envs\\llms\\lib\\site-packages (from langsmith>=0.3.45->langchain-core>=0.1->langgraph) (0.23.0)\n",
      "Requirement already satisfied: annotated-types>=0.6.0 in c:\\users\\itomi\\anaconda3\\envs\\llms\\lib\\site-packages (from pydantic>=2.7.4->langgraph) (0.7.0)\n",
      "Requirement already satisfied: pydantic-core==2.33.2 in c:\\users\\itomi\\anaconda3\\envs\\llms\\lib\\site-packages (from pydantic>=2.7.4->langgraph) (2.33.2)\n",
      "Requirement already satisfied: typing-inspection>=0.4.0 in c:\\users\\itomi\\anaconda3\\envs\\llms\\lib\\site-packages (from pydantic>=2.7.4->langgraph) (0.4.1)\n",
      "Requirement already satisfied: charset_normalizer<4,>=2 in c:\\users\\itomi\\anaconda3\\envs\\llms\\lib\\site-packages (from requests>=2.0.0->langsmith>=0.3.45->langchain-core>=0.1->langgraph) (3.4.3)\n",
      "Requirement already satisfied: urllib3<3,>=1.21.1 in c:\\users\\itomi\\anaconda3\\envs\\llms\\lib\\site-packages (from requests>=2.0.0->langsmith>=0.3.45->langchain-core>=0.1->langgraph) (2.5.0)\n",
      "Downloading langgraph-0.6.7-py3-none-any.whl (153 kB)\n",
      "Downloading langgraph_checkpoint-2.1.1-py3-none-any.whl (43 kB)\n",
      "Downloading langgraph_prebuilt-0.6.4-py3-none-any.whl (28 kB)\n",
      "Downloading langgraph_sdk-0.2.6-py3-none-any.whl (54 kB)\n",
      "Downloading ormsgpack-1.10.0-cp311-cp311-win_amd64.whl (121 kB)\n",
      "Installing collected packages: ormsgpack, langgraph-sdk, langgraph-checkpoint, langgraph-prebuilt, langgraph\n",
      "\n",
      "   ------------------------ --------------- 3/5 [langgraph-prebuilt]\n",
      "   -------------------------------- ------- 4/5 [langgraph]\n",
      "   ---------------------------------------- 5/5 [langgraph]\n",
      "\n",
      "Successfully installed langgraph-0.6.7 langgraph-checkpoint-2.1.1 langgraph-prebuilt-0.6.4 langgraph-sdk-0.2.6 ormsgpack-1.10.0\n"
     ]
    }
   ],
   "source": [
    "!pip install pypdf docx2txt unstructured msoffcrypto-tool openpyxl\n",
    "!pip install -U langgraph"
   ]
  },
  {
   "cell_type": "code",
   "execution_count": 20,
   "id": "abdef4fe-5055-4259-99c7-82a0525c0d35",
   "metadata": {},
   "outputs": [],
   "source": [
    "# Standard library imports\n",
    "import os\n",
    "import hashlib\n",
    "from pathlib import Path\n",
    "from typing import List\n",
    "\n",
    "# Third-party imports\n",
    "import numpy as np\n",
    "import plotly.graph_objects as go\n",
    "from dotenv import load_dotenv\n",
    "from pydantic import Field\n",
    "from sklearn.manifold import TSNE\n",
    "import gradio as gr\n",
    "\n",
    "from langchain_core.prompts import PromptTemplate, ChatPromptTemplate, MessagesPlaceholder\n",
    "from langchain_core.runnables import RunnableWithMessageHistory\n",
    "from langchain_community.document_loaders import PyPDFLoader, TextLoader, Docx2txtLoader, UnstructuredExcelLoader\n",
    "from langchain_community.document_loaders.excel import UnstructuredExcelLoader\n",
    "from langchain.text_splitter import CharacterTextSplitter\n",
    "from langchain.schema import BaseRetriever, Document\n",
    "from langchain.schema.vectorstore import VectorStoreRetriever\n",
    "from langchain.callbacks.manager import CallbackManagerForRetrieverRun\n",
    "from langchain.memory import ConversationBufferMemory\n",
    "from langchain.chains.retrieval import create_retrieval_chain\n",
    "from langchain.chains.history_aware_retriever import create_history_aware_retriever\n",
    "\n",
    "# LangChain integrations\n",
    "from langchain_openai import OpenAIEmbeddings, ChatOpenAI\n",
    "from langchain_chroma import Chroma\n",
    "from langchain_core.runnables import RunnableLambda\n",
    "from langchain.chains.conversational_retrieval.base import ConversationalRetrievalChain\n",
    "\n",
    "from langchain_core.messages import HumanMessage\n",
    "from langchain.memory import ChatMessageHistory\n",
    "from langchain_core.runnables import RunnableWithMessageHistory\n",
    "from langchain.chains.combine_documents import create_stuff_documents_chain\n",
    "from langchain.chains import create_retrieval_chain\n"
   ]
  },
  {
   "cell_type": "code",
   "execution_count": 21,
   "id": "7b5ca4dd-a1c2-4fc6-844f-7b0c83008c99",
   "metadata": {},
   "outputs": [],
   "source": [
    "# Load environment variables\n",
    "load_dotenv(override=True)\n",
    "\n",
    "# Configuration\n",
    "DATA_PATH = r\"your-data-path\"\n",
    "MODEL = \"gpt-4o-mini\"\n",
    "CHROMA_PATH = \"vector_db/chroma_insurellm\"\n",
    "\n",
    "# Explicitly access the OpenAI API key\n",
    "openai_api_key = os.getenv('OPENAI_API_KEY')\n",
    "if not openai_api_key:\n",
    "    print(\"❌ OPENAI_API_KEY is missing\")"
   ]
  },
  {
   "cell_type": "code",
   "execution_count": 22,
   "id": "ae72f98b-05a5-4758-9503-424a93055323",
   "metadata": {},
   "outputs": [
    {
     "name": "stdout",
     "output_type": "stream",
     "text": [
      "39 documents loaded.\n"
     ]
    }
   ],
   "source": [
    "# Load .pdf, .txt, and .md documents with metadata, excluding Jupyter checkpoints.\n",
    "\n",
    "documents = []\n",
    "\n",
    "def add_metadata(doc, file_path):\n",
    "    doc.metadata[\"doc_type\"] = file_path.parent.name\n",
    "    doc.metadata[\"file_name\"] = file_path.name\n",
    "    if not doc.page_content.strip():\n",
    "        print(f\"⚠️ Empty content in {file_path}\")\n",
    "    # else:\n",
    "    #     print(doc)\n",
    "    #     print(\"-\" * 40)\n",
    "    return doc\n",
    "\n",
    "for file_path in Path(DATA_PATH).rglob(\"*\"):\n",
    "    if \".ipynb_checkpoints\" in file_path.parts:\n",
    "        continue\n",
    "\n",
    "    try:\n",
    "        # Check file extension and load accordingly\n",
    "        if file_path.name.endswith(\".pdf\"):\n",
    "            loader = PyPDFLoader(str(file_path))\n",
    "        elif file_path.name.endswith((\".txt\", \".md\")):\n",
    "            loader = TextLoader(str(file_path), encoding=\"utf-8\")\n",
    "        # NEW: Word (.docx) file\n",
    "        elif file_path.name.endswith(\".docx\"):\n",
    "            loader = Docx2txtLoader(str(file_path))\n",
    "        # NEW: Excel (.xlsx) file\n",
    "        elif file_path.name.endswith(\".xlsx\"):\n",
    "            # Use UnstructuredExcelLoader for comprehensive parsing\n",
    "            loader = UnstructuredExcelLoader(str(file_path))\n",
    "        else:\n",
    "            continue\n",
    "        \n",
    "        docs = loader.load()\n",
    "\n",
    "    except Exception as e:\n",
    "        print(f\"❌ Skipped {file_path}: {e}\")\n",
    "        continue\n",
    "\n",
    "    documents.extend([add_metadata(doc, file_path) for doc in docs])\n",
    "\n",
    "print(f\"{len(documents)} documents loaded.\" if documents else \"No documents loaded.\")\n"
   ]
  },
  {
   "cell_type": "code",
   "execution_count": 23,
   "id": "e40d0487-6db4-4c3f-b0c6-e9aaf4e14b37",
   "metadata": {},
   "outputs": [
    {
     "name": "stdout",
     "output_type": "stream",
     "text": [
      "Split 39 documents into 39 chunks.\n",
      "Chunk 1 metadata: {'source': 'C:\\\\Users\\\\itomi\\\\projects\\\\llm_engineering\\\\projects\\\\RAG_QA_argent\\\\data\\\\analytics\\\\analytics_1.docx', 'doc_type': 'analytics', 'file_name': 'analytics_1.docx', 'start_index': 0, 'chunk_id': '81b77aec00451d0d40ec09167e4cd666'}\n",
      "Chunk 2 metadata: {'source': 'C:\\\\Users\\\\itomi\\\\projects\\\\llm_engineering\\\\projects\\\\RAG_QA_argent\\\\data\\\\analytics\\\\analytics_2.txt', 'doc_type': 'analytics', 'file_name': 'analytics_2.txt', 'start_index': 0, 'chunk_id': 'cb4f628cfd9b1f67cce279bcc390855d'}\n"
     ]
    }
   ],
   "source": [
    "# Split documents into smaller chunks with overlapping characters for better context.\n",
    "text_splitter = CharacterTextSplitter(\n",
    "    chunk_size=1000,\n",
    "    chunk_overlap=200,\n",
    "    add_start_index=True  # Maintain chunk order (useful for context tracking)\n",
    ")\n",
    "\n",
    "# Load and split documents\n",
    "chunks = text_splitter.split_documents(documents)\n",
    "\n",
    "print(f\"Split {len(documents)} documents into {len(chunks)} chunks.\")\n",
    "\n",
    "def generate_chunk_id(text):\n",
    "    return hashlib.md5(text.encode(\"utf-8\")).hexdigest()\n",
    "\n",
    "# Add chunk_id to each chunk's metadata\n",
    "for chunk in chunks:\n",
    "    chunk.metadata[\"chunk_id\"] = generate_chunk_id(chunk.page_content) # Create an MD5 hash of the chunk's content\n",
    "    if not chunk.page_content.strip():\n",
    "        print(f\"⚠️ Empty chunk from: {chunk.metadata['file_name']}\")\n",
    "\n",
    "# Debug: print a few chunk metadatas to verify chunk_id is added\n",
    "for i, chunk in enumerate(chunks[:2]):\n",
    "    print(f\"Chunk {i+1} metadata:\", chunk.metadata)"
   ]
  },
  {
   "cell_type": "code",
   "execution_count": 24,
   "id": "1faa604c-ddd9-4475-aaff-f4456629d77d",
   "metadata": {},
   "outputs": [
    {
     "name": "stdout",
     "output_type": "stream",
     "text": [
      "Duplicate chunk IDs found: ['69f33e0ecee440df080bb983e8bd0918', '69f33e0ecee440df080bb983e8bd0918']\n"
     ]
    }
   ],
   "source": [
    "# Check for duplicate chunk IDs\n",
    "chunk_ids = [chunk.metadata[\"chunk_id\"] for chunk in chunks]\n",
    "duplicate_ids = [chunk_id for chunk_id in chunk_ids if chunk_ids.count(chunk_id) > 1]\n",
    "\n",
    "if duplicate_ids:\n",
    "    print(f\"Duplicate chunk IDs found: {duplicate_ids}\")\n",
    "else:\n",
    "    print(\"No duplicate chunks.\")"
   ]
  },
  {
   "cell_type": "code",
   "execution_count": 25,
   "id": "a0135e85-6e0b-45a4-ab0d-b9fec56b63ac",
   "metadata": {},
   "outputs": [],
   "source": [
    "embedding_function = OpenAIEmbeddings()\n",
    "# By default, OpenAIEmbeddings() uses OpenAI's text-embedding-ada-002 model - a multilingual model"
   ]
  },
  {
   "cell_type": "code",
   "execution_count": 26,
   "id": "093959f0-6826-4594-9338-598094e24923",
   "metadata": {},
   "outputs": [
    {
     "name": "stdout",
     "output_type": "stream",
     "text": [
      "Chunk changes detected. Rebuilding Chroma DB.\n",
      "Saved 39 chunks to vector_db/chroma_insurellm.\n"
     ]
    }
   ],
   "source": [
    "os.makedirs(CHROMA_PATH, exist_ok=True)\n",
    "\n",
    "def get_existing_chunk_ids(db_path):\n",
    "    try:\n",
    "        db_existing = Chroma(persist_directory=db_path)\n",
    "        results = db_existing._collection.get(include=[\"metadatas\"])\n",
    "        return set(\n",
    "            m[\"chunk_id\"] for m in results[\"metadatas\"]\n",
    "            if isinstance(m, dict) and \"chunk_id\" in m\n",
    "        )\n",
    "    except Exception as e:\n",
    "        print(\"❌ Error loading existing chunk IDs:\", e)\n",
    "        return set()\n",
    "\n",
    "# Get chunk_ids of current chunks\n",
    "new_chunk_ids = set([chunk.metadata[\"chunk_id\"] for chunk in chunks])\n",
    "\n",
    "# Get existing chunk_ids from Chroma\n",
    "existing_chunk_ids = get_existing_chunk_ids(CHROMA_PATH)\n",
    "\n",
    "# Compare\n",
    "if new_chunk_ids != existing_chunk_ids:\n",
    "    print(\"Chunk changes detected. Rebuilding Chroma DB.\")\n",
    "    db = Chroma.from_documents(documents=chunks, embedding=embedding_function, persist_directory=CHROMA_PATH)\n",
    "    print(f\"Saved {len(chunks)} chunks to {CHROMA_PATH}.\")\n",
    "else:\n",
    "    db = Chroma(persist_directory=CHROMA_PATH, embedding_function=embedding_function)\n",
    "    print(\"Chroma DB is up to date. Skipping regeneration.\")\n"
   ]
  },
  {
   "cell_type": "code",
   "execution_count": 27,
   "id": "1179ca76-2502-4bea-a4d8-4cbe149e92fa",
   "metadata": {},
   "outputs": [],
   "source": [
    "collection = db._collection\n",
    "result = collection.get(include=['embeddings', 'documents', 'metadatas'])\n",
    "vectors = np.array(result['embeddings'])\n",
    "documents = result['documents']\n",
    "metadatas = result['metadatas']\n",
    "doc_types = [metadata['doc_type'] for metadata in metadatas]\n",
    "colors = [\n",
    "    ['blue', '#4B0082', 'red', '#8B4513', '#FF8C00', '#2F4F4F', '#228B22', '#4682B4', '#20B2AA', '#DAA520']\n",
    "    [['product', 'sales', 'customer', 'company', 'news', 'contracts', 'employees', 'analytics', 'research', 'training'].index(t)]\n",
    "    if t in ['product', 'sales', 'customer', 'company', 'news', 'contracts', 'employees', 'analytics', 'research', 'training']\n",
    "    else 'gray'\n",
    "    for t in doc_types\n",
    "]"
   ]
  },
  {
   "cell_type": "code",
   "execution_count": 28,
   "id": "c18bd18c-0b6c-4206-b2d0-a1bb59b3d39e",
   "metadata": {},
   "outputs": [
    {
     "data": {
      "application/vnd.plotly.v1+json": {
       "config": {
        "plotlyServerURL": "https://plot.ly"
       },
       "data": [
        {
         "hoverinfo": "text",
         "marker": {
          "color": [
           "#8B4513",
           "red",
           "#FF8C00",
           "blue",
           "#4B0082",
           "#4682B4",
           "#4682B4",
           "#4682B4",
           "#8B4513",
           "#8B4513",
           "#8B4513",
           "#8B4513",
           "#2F4F4F",
           "#2F4F4F",
           "#2F4F4F",
           "red",
           "red",
           "red",
           "red",
           "red",
           "red",
           "#228B22",
           "#228B22",
           "#228B22",
           "#FF8C00",
           "#FF8C00",
           "#FF8C00",
           "#FF8C00",
           "blue",
           "gray",
           "gray",
           "gray",
           "gray",
           "#20B2AA",
           "#20B2AA",
           "#20B2AA",
           "#4B0082",
           "#4B0082",
           "#4B0082",
           "#4B0082",
           "#4B0082",
           "#DAA520",
           "#DAA520",
           "#DAA520",
           "#4682B4",
           "#4682B4",
           "#4682B4",
           "#8B4513",
           "#8B4513",
           "#8B4513",
           "#8B4513",
           "#2F4F4F",
           "#2F4F4F",
           "#2F4F4F",
           "red",
           "red",
           "red",
           "red",
           "red",
           "red",
           "#228B22",
           "#228B22",
           "#228B22",
           "#FF8C00",
           "#FF8C00",
           "#FF8C00",
           "#FF8C00",
           "gray",
           "gray",
           "gray",
           "gray",
           "gray",
           "#20B2AA",
           "#20B2AA",
           "#20B2AA",
           "#4B0082",
           "#4B0082",
           "#4B0082",
           "#4B0082",
           "#4B0082",
           "#DAA520",
           "#DAA520",
           "#DAA520",
           "#4682B4",
           "#4682B4",
           "#4682B4",
           "#8B4513",
           "#8B4513",
           "#8B4513",
           "#8B4513",
           "#2F4F4F",
           "#2F4F4F",
           "#2F4F4F",
           "red",
           "red",
           "red",
           "red",
           "red",
           "red",
           "#228B22",
           "#228B22",
           "#228B22",
           "#FF8C00",
           "#FF8C00",
           "#FF8C00",
           "#FF8C00",
           "gray",
           "gray",
           "gray",
           "gray",
           "gray",
           "#20B2AA",
           "#20B2AA",
           "#20B2AA",
           "#4B0082",
           "#4B0082",
           "#4B0082",
           "#4B0082",
           "#4B0082",
           "#DAA520",
           "#DAA520",
           "#DAA520"
          ],
          "opacity": 0.8,
          "size": 8
         },
         "mode": "markers",
         "text": [
          "Type: company<br>Text: 会社名：InsureLLM株式会社\n設立：2018年4月\n所在地：東京都港区南青山1-2-3\n従業員数：120名（2025年現在）\n事業内容：\n- 保険業界向けAIソリューションの開発・提供\n- 教育...",
          "Type: customer<br>Text: 事例：SOMPO ホールディングス様 \n \n課題： \n- 保険金請求の処理に平均 3.2 日かかっていた \n- 顧客満足度が低下傾向 \n \n導入ソリューション： \n- ClaimVision＋Insu...",
          "Type: news<br>Text: 2025年8月号社内報より抜粋：\n\n- 新卒採用：2026年度はAIエンジニア10名、データサイエンティスト5名を予定\n\n- 社内ハッカソン開催：テーマは「教育×生成AI」\n\n- GPT-4o-min...",
          "Type: product<br>Text: # 製品一覧\n\n## InsureGPT API\n\n- 保険契約書の自動要約\n- 顧客対応チャットボットへの組み込み\n- 保険金請求の自動分類\n\n## EduInsight\n\n- 教育機関向け成績分析...",
          "Type: sales<br>Text: 年度 製品名 売上(百万円) 顧客数 2023 InsureGPT AI 320 18社 2024 EduInsight 450 22社 2025 ClaimVision 220 10社...",
          "Type: analytics<br>Text: 月：4月\n製品：EduInsight\n売上：226百万円\n新規顧客：1社...",
          "Type: analytics<br>Text: 月：2月\n製品：EduInsight\n売上：519百万円\n新規顧客：1社...",
          "Type: analytics<br>Text: 月：4月\n製品：EduInsight\n売上：327百万円\n新規顧客：2社...",
          "Type: company<br>Text: InsureLLM株式会社は2024年に設立され、名古屋市中区に本社を構えるAI企業です。...",
          "Type: company<br>Text: InsureLLM株式会社は2024年に設立され、名古屋市中区に本社を構えるAI企業です。...",
          "Type: company<br>Text: InsureLLM株式会社は2025年に設立され、名古屋市中区に本社を構えるAI企業です。...",
          "Type: company<br>Text: 会社名：InsureLLM株式会社\n設立：2018年4月\n所在地：東京都港区南青山1-2-3\n従業員数：120名（2025年現在）\n事業内容：\n- 保険業界向けAIソリューションの開発・提供\n- 教育...",
          "Type: contracts<br>Text: 契約種別：利用規約\n有効期間：4年\n対象：パートナー企業...",
          "Type: contracts<br>Text: 契約種別：NDA\n有効期間：3年\n対象：パートナー企業...",
          "Type: contracts<br>Text: 契約種別：業務委託契約\n有効期間：3年\n対象：顧客...",
          "Type: customer<br>Text: 事例：SOMPO ホールディングス様 \n \n課題： \n- 保険金請求の処理に平均 3.2 日かかっていた \n- 顧客満足度が低下傾向 \n \n導入ソリューション： \n- ClaimVision＋Insu...",
          "Type: customer<br>Text: 事例：SOMPO社\n課題：顧客満足度低下\n成果：業務効率化...",
          "Type: customer<br>Text: 事例：SOMPO社\n課題：顧客満足度低下\n成果：満足度向上...",
          "Type: customer<br>Text: 事例：SOMPO社\n課題：処理遅延\n成果：満足度向上...",
          "Type: customer<br>Text: 事例：ベネッセ社\n課題：処理遅延\n成果：業務効率化...",
          "Type: customer<br>Text: 事例：楽天損保社\n課題：手作業の多さ\n成果：業務効率化...",
          "Type: employees<br>Text: 社員名：社員1\n所属：技術部\n役職：データサイエンティスト...",
          "Type: employees<br>Text: 社員名：社員2\n所属：技術部\n役職：営業マネージャー...",
          "Type: employees<br>Text: 社員名：社員3\n所属：人事部\n役職：データサイエンティスト...",
          "Type: news<br>Text: 2025年8月号社内報より抜粋：\n\n- 新卒採用：2026年度はAIエンジニア10名、データサイエンティスト5名を予定\n\n- 社内ハッカソン開催：テーマは「教育×生成AI」\n\n- GPT-4o-min...",
          "Type: news<br>Text: 【5月月号社内報】\nトピック：GPT-4o-mini開発...",
          "Type: news<br>Text: 【4月月号社内報】\nトピック：GPT-4o-mini開発...",
          "Type: news<br>Text: 【1月月号社内報】\nトピック：新卒採用...",
          "Type: product<br>Text: # 製品一覧\n\n## InsureGPT API\n\n- 保険契約書の自動要約\n- 顧客対応チャットボットへの組み込み\n- 保険金請求の自動分類\n\n## EduInsight\n\n- 教育機関向け成績分析...",
          "Type: products<br>Text: 製品名：EduInsight\n特徴：学習分析...",
          "Type: products<br>Text: 製品名：ClaimVision\n特徴：学習分析...",
          "Type: products<br>Text: 製品名：InsureGPT API\n特徴：自然言語処理...",
          "Type: products<br>Text: 製品名：InsureGPT API\n特徴：OCR分類...",
          "Type: research<br>Text: 研究テーマ：LLMの多言語対応\n開始時期：Q4 2025\n責任者：研究員1...",
          "Type: research<br>Text: 研究テーマ：教育AIの最適化\n開始時期：Q4 2025\n責任者：研究員2...",
          "Type: research<br>Text: 研究テーマ：保険金請求の自動化\n開始時期：Q1 2024\n責任者：研究員3...",
          "Type: sales<br>Text: 年度 製品名 売上(百万円) 顧客数 2023 InsureGPT AI 320 18社 2024 EduInsight 450 22社 2025 ClaimVision 220 10社...",
          "Type: sales<br>Text: 年度：2022\n製品：EduInsight\n売上：317百万円\n顧客数：18社...",
          "Type: sales<br>Text: 年度：2023\n製品：EduInsight\n売上：361百万円\n顧客数：15社...",
          "Type: sales<br>Text: 年度：2022\n製品：ClaimVision\n売上：505百万円\n顧客数：10社...",
          "Type: sales<br>Text: 年度：2022\n製品：ClaimVision\n売上：211百万円\n顧客数：5社...",
          "Type: training<br>Text: 研修名：AI研修1\n対象部門：技術部\n講師：外部講師...",
          "Type: training<br>Text: 研修名：AI研修2\n対象部門：営業部\n講師：外部講師...",
          "Type: training<br>Text: 研修名：AI研修3\n対象部門：営業部\n講師：AIチーム...",
          "Type: analytics<br>Text: 月：4月\n\n製品：EduInsight\n\n売上：226百万円\n\n新規顧客：1社...",
          "Type: analytics<br>Text: 月：2月\n製品：EduInsight\n売上：519百万円\n新規顧客：1社...",
          "Type: analytics<br>Text: 月：4月\n製品：EduInsight\n売上：327百万円\n新規顧客：2社...",
          "Type: company<br>Text: InsureLLM株式会社は2024年に設立され、名古屋市中区に本社を構えるAI企業です。...",
          "Type: company<br>Text: InsureLLM株式会社は2024年に設立され、名古屋市中区に本社を構えるAI企業です。...",
          "Type: company<br>Text: InsureLLM株式会社は2025年に設立され、名古屋市中区に本社を構えるAI企業です。...",
          "Type: company<br>Text: 会社名：InsureLLM 株式会社 \n設立：2018 年 4 月 \n所在地：東京都港区南青山 1-2-3 \n従業員数：120 名（2025 年現在） \n事業内容： \n- 保険業界向け AI ソリュー...",
          "Type: contracts<br>Text: 契約種別：利用規約\n有効期間：4年\n対象：パートナー企業...",
          "Type: contracts<br>Text: 契約種別：NDA\n有効期間：3年\n対象：パートナー企業...",
          "Type: contracts<br>Text: 契約種別：業務委託契約\n有効期間：3年\n対象：顧客...",
          "Type: customer<br>Text: 事例：SOMPO ホールディングス様 \n \n課題： \n- 保険金請求の処理に平均 3.2 日かかっていた \n- 顧客満足度が低下傾向 \n \n導入ソリューション： \n- ClaimVision＋Insu...",
          "Type: customer<br>Text: 事例：SOMPO社\n課題：顧客満足度低下\n成果：業務効率化...",
          "Type: customer<br>Text: 事例：SOMPO社\n課題：顧客満足度低下\n成果：満足度向上...",
          "Type: customer<br>Text: 事例：SOMPO社\n課題：処理遅延\n成果：満足度向上...",
          "Type: customer<br>Text: 事例：ベネッセ社\n課題：処理遅延\n成果：業務効率化...",
          "Type: customer<br>Text: 事例：楽天損保社\n課題：手作業の多さ\n成果：業務効率化...",
          "Type: employees<br>Text: 社員名：社員1\n所属：技術部\n役職：データサイエンティスト...",
          "Type: employees<br>Text: 社員名：社員2\n所属：技術部\n役職：営業マネージャー...",
          "Type: employees<br>Text: 社員名：社員3\n所属：人事部\n役職：データサイエンティスト...",
          "Type: news<br>Text: 2025年8月号社内報より抜粋：\n\n- 新卒採用：2026年度はAIエンジニア10名、データサイエンティスト5名を予定\n\n- 社内ハッカソン開催：テーマは「教育×生成AI」\n\n- GPT-4o-min...",
          "Type: news<br>Text: 【5月月号社内報】\nトピック：GPT-4o-mini開発...",
          "Type: news<br>Text: 【4月月号社内報】\nトピック：GPT-4o-mini開発...",
          "Type: news<br>Text: 【1月月号社内報】\nトピック：新卒採用...",
          "Type: products<br>Text: # 製品一覧\n\n## InsureGPT API\n\n- 保険契約書の自動要約\n- 顧客対応チャットボットへの組み込み\n- 保険金請求の自動分類\n\n## EduInsight\n\n- 教育機関向け成績分析...",
          "Type: products<br>Text: 製品名：EduInsight\n特徴：学習分析...",
          "Type: products<br>Text: 製品名：ClaimVision\n特徴：学習分析...",
          "Type: products<br>Text: 製品名：InsureGPT API\n特徴：自然言語処理...",
          "Type: products<br>Text: 製品名：InsureGPT API\n特徴：OCR分類...",
          "Type: research<br>Text: 研究テーマ：LLMの多言語対応\n開始時期：Q4 2025\n責任者：研究員1...",
          "Type: research<br>Text: 研究テーマ：教育AIの最適化\n開始時期：Q4 2025\n責任者：研究員2...",
          "Type: research<br>Text: 研究テーマ：保険金請求の自動化\n開始時期：Q1 2024\n責任者：研究員3...",
          "Type: sales<br>Text: 年度 製品名 売上(百万円) 顧客数 2023 InsureGPT AI 320 18社 2024 EduInsight 450 22社 2025 ClaimVision 220 10社...",
          "Type: sales<br>Text: 年度：2022\n製品：EduInsight\n売上：317百万円\n顧客数：18社...",
          "Type: sales<br>Text: 年度：2023\n製品：EduInsight\n売上：361百万円\n顧客数：15社...",
          "Type: sales<br>Text: 年度：2022\n製品：ClaimVision\n売上：505百万円\n顧客数：10社...",
          "Type: sales<br>Text: 年度：2022\n製品：ClaimVision\n売上：211百万円\n顧客数：5社...",
          "Type: training<br>Text: 研修名：AI研修1\n対象部門：技術部\n講師：外部講師...",
          "Type: training<br>Text: 研修名：AI研修2\n対象部門：営業部\n講師：外部講師...",
          "Type: training<br>Text: 研修名：AI研修3\n対象部門：営業部\n講師：AIチーム...",
          "Type: analytics<br>Text: 月：4月\n\n製品：EduInsight\n\n売上：226百万円\n\n新規顧客：1社...",
          "Type: analytics<br>Text: 月：2月\n製品：EduInsight\n売上：519百万円\n新規顧客：1社...",
          "Type: analytics<br>Text: 月：4月\n製品：EduInsight\n売上：327百万円\n新規顧客：2社...",
          "Type: company<br>Text: InsureLLM株式会社は2024年に設立され、名古屋市中区に本社を構えるAI企業です。...",
          "Type: company<br>Text: InsureLLM株式会社は2024年に設立され、名古屋市中区に本社を構えるAI企業です。...",
          "Type: company<br>Text: InsureLLM株式会社は2025年に設立され、名古屋市中区に本社を構えるAI企業です。...",
          "Type: company<br>Text: 会社名：InsureLLM 株式会社 \n設立：2018 年 4 月 \n所在地：東京都港区南青山 1-2-3 \n従業員数：120 名（2025 年現在） \n事業内容： \n- 保険業界向け AI ソリュー...",
          "Type: contracts<br>Text: 契約種別：利用規約\n有効期間：4年\n対象：パートナー企業...",
          "Type: contracts<br>Text: 契約種別：NDA\n有効期間：3年\n対象：パートナー企業...",
          "Type: contracts<br>Text: 契約種別：業務委託契約\n有効期間：3年\n対象：顧客...",
          "Type: customer<br>Text: 事例：SOMPO ホールディングス様 \n \n課題： \n- 保険金請求の処理に平均 3.2 日かかっていた \n- 顧客満足度が低下傾向 \n \n導入ソリューション： \n- ClaimVision＋Insu...",
          "Type: customer<br>Text: 事例：SOMPO社\n課題：顧客満足度低下\n成果：業務効率化...",
          "Type: customer<br>Text: 事例：SOMPO社\n課題：顧客満足度低下\n成果：満足度向上...",
          "Type: customer<br>Text: 事例：SOMPO社\n課題：処理遅延\n成果：満足度向上...",
          "Type: customer<br>Text: 事例：ベネッセ社\n課題：処理遅延\n成果：業務効率化...",
          "Type: customer<br>Text: 事例：楽天損保社\n課題：手作業の多さ\n成果：業務効率化...",
          "Type: employees<br>Text: 社員名：社員1\n所属：技術部\n役職：データサイエンティスト...",
          "Type: employees<br>Text: 社員名：社員2\n所属：技術部\n役職：営業マネージャー...",
          "Type: employees<br>Text: 社員名：社員3\n所属：人事部\n役職：データサイエンティスト...",
          "Type: news<br>Text: 2025年8月号社内報より抜粋：\n\n- 新卒採用：2026年度はAIエンジニア10名、データサイエンティスト5名を予定\n\n- 社内ハッカソン開催：テーマは「教育×生成AI」\n\n- GPT-4o-min...",
          "Type: news<br>Text: 【5月月号社内報】\nトピック：GPT-4o-mini開発...",
          "Type: news<br>Text: 【4月月号社内報】\nトピック：GPT-4o-mini開発...",
          "Type: news<br>Text: 【1月月号社内報】\nトピック：新卒採用...",
          "Type: products<br>Text: # 製品一覧\n\n## InsureGPT API\n\n- 保険契約書の自動要約\n- 顧客対応チャットボットへの組み込み\n- 保険金請求の自動分類\n\n## EduInsight\n\n- 教育機関向け成績分析...",
          "Type: products<br>Text: 製品名：EduInsight\n特徴：学習分析...",
          "Type: products<br>Text: 製品名：ClaimVision\n特徴：学習分析...",
          "Type: products<br>Text: 製品名：InsureGPT API\n特徴：自然言語処理...",
          "Type: products<br>Text: 製品名：InsureGPT API\n特徴：OCR分類...",
          "Type: research<br>Text: 研究テーマ：LLMの多言語対応\n開始時期：Q4 2025\n責任者：研究員1...",
          "Type: research<br>Text: 研究テーマ：教育AIの最適化\n開始時期：Q4 2025\n責任者：研究員2...",
          "Type: research<br>Text: 研究テーマ：保険金請求の自動化\n開始時期：Q1 2024\n責任者：研究員3...",
          "Type: sales<br>Text: 年度 製品名 売上(百万円) 顧客数 2023 InsureGPT AI 320 18社 2024 EduInsight 450 22社 2025 ClaimVision 220 10社...",
          "Type: sales<br>Text: 年度：2022\n製品：EduInsight\n売上：317百万円\n顧客数：18社...",
          "Type: sales<br>Text: 年度：2023\n製品：EduInsight\n売上：361百万円\n顧客数：15社...",
          "Type: sales<br>Text: 年度：2022\n製品：ClaimVision\n売上：505百万円\n顧客数：10社...",
          "Type: sales<br>Text: 年度：2022\n製品：ClaimVision\n売上：211百万円\n顧客数：5社...",
          "Type: training<br>Text: 研修名：AI研修1\n対象部門：技術部\n講師：外部講師...",
          "Type: training<br>Text: 研修名：AI研修2\n対象部門：営業部\n講師：外部講師...",
          "Type: training<br>Text: 研修名：AI研修3\n対象部門：営業部\n講師：AIチーム..."
         ],
         "type": "scatter",
         "x": {
          "bdata": "I0ACwVjDxsGENhbBhY97wQj2NMDzfzlAbAtUQcQ75EAq6uBAKurgQLBFbkEd0EvAZKgiQqEcK0IetUhCtM2ywQ5c48E1NrjBCPu1wXcuIcLj3hzC0Dc+QctdpUG0mZ5B2ziTwLPP1cGRF97BV4YPQtI6rsHAaEDBuZqtwcqw78HhyxLCZwKvQdlABkEcLZdBWP6SwOYMz0BnFpPAv32FQS+avEHORgrAnKfgQNRzZsDS4kVBDZXxQGGcEsBqgTtBaoE7Qfa2pUCc7gbBe6gRQh5ZGUImokxCWMPGwTFUv8HhMpLB6CDUwcW0FcJxLgrCVOtzQSxJxEFbeoBB0OitwERzxMHCswHCfdP9QRHhlcFA9zfBJFGTwVI1CcJIYA/CsNWSQY7sFkGsvp9BuT6+PvcrlEBvEs0+HaiYQQC1qUHU4bO/upwyQCRnYsC0U9NAbAtUQV+3pj8MZyRBKurgQLBFbkHY91/AZKgiQiI3KkIetUhCcPSbwQ5c48G2MpLBlADiwRVWDcLj3hzC0Dc+QctdpUG0mZ5B6EwjwY5/s8GYsfjBV4YPQqUel8HAaEDBc/e5wTQq78G2NP/BqEa3QdlABkE++rpBgCALQG/BKkFyPvC+v32FQS+avEHGhlNA2YT8QKRPnj8=",
          "dtype": "f4"
         },
         "y": {
          "bdata": "86NeQf75wMF4vorAHoTZQV+O7UEz8WVCfHphQtfcckJLvy1BS78tQZwmOEGBh2RBYGeeQBRwBcGSsCtAlMTnwflvWML7O2jCVCQuwqkfIsLp6+3Bim9GwrA8H8JIEk7CgDekwNItzT9Cx2LAWFX2wQQf2UGQOWRCSZRKQhd7j0EefOFBODBRwLYaMcEQZITBR5MJQkiNMULC9EFCRaYTQl3BD0KxkwXCJS/XwT7NtMHkHn9CheNaQoWka0KW3atAlt2rQI/bg0ASLQxBBl4QQNVnvsDSyw7A/vnAwekiTMIwtWDCVVUgwqsiMsJN//XBti42wndVLMJo713C76AdwTuQ9sAjkbG/x0vlwSJ+uUGW0nlCXlU7Qroro0GBcgRCObbMwIGCesGBwKfBk0EMQp0LR0IrITZCJJv6QRtNJkLlnhnC2eHwwYr83ME4i4VCfHphQrmFfkIttIRBS78tQZwmOEE7zQ9BYGeeQIdzYsCSsCtAl/jDwflvWMJ85kvCAOEzwhT1H8Lp6+3Bim9GwrA8H8JIEk7CeJ8RwTYAE8CpHOzAWFX2wTfb+EGQOWRCUB04QmEDtkH8tPFB1DT4wLYaMcHCMo7B5vzzQSO0QkJZS1BCRaYTQl3BD0IzhBDCkMEAwpMfwcE=",
          "dtype": "f4"
         }
        }
       ],
       "layout": {
        "font": {
         "color": "black"
        },
        "height": 600,
        "margin": {
         "b": 10,
         "l": 10,
         "r": 20,
         "t": 40
        },
        "paper_bgcolor": "black",
        "plot_bgcolor": "black",
        "template": {
         "data": {
          "bar": [
           {
            "error_x": {
             "color": "#2a3f5f"
            },
            "error_y": {
             "color": "#2a3f5f"
            },
            "marker": {
             "line": {
              "color": "#E5ECF6",
              "width": 0.5
             },
             "pattern": {
              "fillmode": "overlay",
              "size": 10,
              "solidity": 0.2
             }
            },
            "type": "bar"
           }
          ],
          "barpolar": [
           {
            "marker": {
             "line": {
              "color": "#E5ECF6",
              "width": 0.5
             },
             "pattern": {
              "fillmode": "overlay",
              "size": 10,
              "solidity": 0.2
             }
            },
            "type": "barpolar"
           }
          ],
          "carpet": [
           {
            "aaxis": {
             "endlinecolor": "#2a3f5f",
             "gridcolor": "white",
             "linecolor": "white",
             "minorgridcolor": "white",
             "startlinecolor": "#2a3f5f"
            },
            "baxis": {
             "endlinecolor": "#2a3f5f",
             "gridcolor": "white",
             "linecolor": "white",
             "minorgridcolor": "white",
             "startlinecolor": "#2a3f5f"
            },
            "type": "carpet"
           }
          ],
          "choropleth": [
           {
            "colorbar": {
             "outlinewidth": 0,
             "ticks": ""
            },
            "type": "choropleth"
           }
          ],
          "contour": [
           {
            "colorbar": {
             "outlinewidth": 0,
             "ticks": ""
            },
            "colorscale": [
             [
              0,
              "#0d0887"
             ],
             [
              0.1111111111111111,
              "#46039f"
             ],
             [
              0.2222222222222222,
              "#7201a8"
             ],
             [
              0.3333333333333333,
              "#9c179e"
             ],
             [
              0.4444444444444444,
              "#bd3786"
             ],
             [
              0.5555555555555556,
              "#d8576b"
             ],
             [
              0.6666666666666666,
              "#ed7953"
             ],
             [
              0.7777777777777778,
              "#fb9f3a"
             ],
             [
              0.8888888888888888,
              "#fdca26"
             ],
             [
              1,
              "#f0f921"
             ]
            ],
            "type": "contour"
           }
          ],
          "contourcarpet": [
           {
            "colorbar": {
             "outlinewidth": 0,
             "ticks": ""
            },
            "type": "contourcarpet"
           }
          ],
          "heatmap": [
           {
            "colorbar": {
             "outlinewidth": 0,
             "ticks": ""
            },
            "colorscale": [
             [
              0,
              "#0d0887"
             ],
             [
              0.1111111111111111,
              "#46039f"
             ],
             [
              0.2222222222222222,
              "#7201a8"
             ],
             [
              0.3333333333333333,
              "#9c179e"
             ],
             [
              0.4444444444444444,
              "#bd3786"
             ],
             [
              0.5555555555555556,
              "#d8576b"
             ],
             [
              0.6666666666666666,
              "#ed7953"
             ],
             [
              0.7777777777777778,
              "#fb9f3a"
             ],
             [
              0.8888888888888888,
              "#fdca26"
             ],
             [
              1,
              "#f0f921"
             ]
            ],
            "type": "heatmap"
           }
          ],
          "histogram": [
           {
            "marker": {
             "pattern": {
              "fillmode": "overlay",
              "size": 10,
              "solidity": 0.2
             }
            },
            "type": "histogram"
           }
          ],
          "histogram2d": [
           {
            "colorbar": {
             "outlinewidth": 0,
             "ticks": ""
            },
            "colorscale": [
             [
              0,
              "#0d0887"
             ],
             [
              0.1111111111111111,
              "#46039f"
             ],
             [
              0.2222222222222222,
              "#7201a8"
             ],
             [
              0.3333333333333333,
              "#9c179e"
             ],
             [
              0.4444444444444444,
              "#bd3786"
             ],
             [
              0.5555555555555556,
              "#d8576b"
             ],
             [
              0.6666666666666666,
              "#ed7953"
             ],
             [
              0.7777777777777778,
              "#fb9f3a"
             ],
             [
              0.8888888888888888,
              "#fdca26"
             ],
             [
              1,
              "#f0f921"
             ]
            ],
            "type": "histogram2d"
           }
          ],
          "histogram2dcontour": [
           {
            "colorbar": {
             "outlinewidth": 0,
             "ticks": ""
            },
            "colorscale": [
             [
              0,
              "#0d0887"
             ],
             [
              0.1111111111111111,
              "#46039f"
             ],
             [
              0.2222222222222222,
              "#7201a8"
             ],
             [
              0.3333333333333333,
              "#9c179e"
             ],
             [
              0.4444444444444444,
              "#bd3786"
             ],
             [
              0.5555555555555556,
              "#d8576b"
             ],
             [
              0.6666666666666666,
              "#ed7953"
             ],
             [
              0.7777777777777778,
              "#fb9f3a"
             ],
             [
              0.8888888888888888,
              "#fdca26"
             ],
             [
              1,
              "#f0f921"
             ]
            ],
            "type": "histogram2dcontour"
           }
          ],
          "mesh3d": [
           {
            "colorbar": {
             "outlinewidth": 0,
             "ticks": ""
            },
            "type": "mesh3d"
           }
          ],
          "parcoords": [
           {
            "line": {
             "colorbar": {
              "outlinewidth": 0,
              "ticks": ""
             }
            },
            "type": "parcoords"
           }
          ],
          "pie": [
           {
            "automargin": true,
            "type": "pie"
           }
          ],
          "scatter": [
           {
            "fillpattern": {
             "fillmode": "overlay",
             "size": 10,
             "solidity": 0.2
            },
            "type": "scatter"
           }
          ],
          "scatter3d": [
           {
            "line": {
             "colorbar": {
              "outlinewidth": 0,
              "ticks": ""
             }
            },
            "marker": {
             "colorbar": {
              "outlinewidth": 0,
              "ticks": ""
             }
            },
            "type": "scatter3d"
           }
          ],
          "scattercarpet": [
           {
            "marker": {
             "colorbar": {
              "outlinewidth": 0,
              "ticks": ""
             }
            },
            "type": "scattercarpet"
           }
          ],
          "scattergeo": [
           {
            "marker": {
             "colorbar": {
              "outlinewidth": 0,
              "ticks": ""
             }
            },
            "type": "scattergeo"
           }
          ],
          "scattergl": [
           {
            "marker": {
             "colorbar": {
              "outlinewidth": 0,
              "ticks": ""
             }
            },
            "type": "scattergl"
           }
          ],
          "scattermap": [
           {
            "marker": {
             "colorbar": {
              "outlinewidth": 0,
              "ticks": ""
             }
            },
            "type": "scattermap"
           }
          ],
          "scattermapbox": [
           {
            "marker": {
             "colorbar": {
              "outlinewidth": 0,
              "ticks": ""
             }
            },
            "type": "scattermapbox"
           }
          ],
          "scatterpolar": [
           {
            "marker": {
             "colorbar": {
              "outlinewidth": 0,
              "ticks": ""
             }
            },
            "type": "scatterpolar"
           }
          ],
          "scatterpolargl": [
           {
            "marker": {
             "colorbar": {
              "outlinewidth": 0,
              "ticks": ""
             }
            },
            "type": "scatterpolargl"
           }
          ],
          "scatterternary": [
           {
            "marker": {
             "colorbar": {
              "outlinewidth": 0,
              "ticks": ""
             }
            },
            "type": "scatterternary"
           }
          ],
          "surface": [
           {
            "colorbar": {
             "outlinewidth": 0,
             "ticks": ""
            },
            "colorscale": [
             [
              0,
              "#0d0887"
             ],
             [
              0.1111111111111111,
              "#46039f"
             ],
             [
              0.2222222222222222,
              "#7201a8"
             ],
             [
              0.3333333333333333,
              "#9c179e"
             ],
             [
              0.4444444444444444,
              "#bd3786"
             ],
             [
              0.5555555555555556,
              "#d8576b"
             ],
             [
              0.6666666666666666,
              "#ed7953"
             ],
             [
              0.7777777777777778,
              "#fb9f3a"
             ],
             [
              0.8888888888888888,
              "#fdca26"
             ],
             [
              1,
              "#f0f921"
             ]
            ],
            "type": "surface"
           }
          ],
          "table": [
           {
            "cells": {
             "fill": {
              "color": "#EBF0F8"
             },
             "line": {
              "color": "white"
             }
            },
            "header": {
             "fill": {
              "color": "#C8D4E3"
             },
             "line": {
              "color": "white"
             }
            },
            "type": "table"
           }
          ]
         },
         "layout": {
          "annotationdefaults": {
           "arrowcolor": "#2a3f5f",
           "arrowhead": 0,
           "arrowwidth": 1
          },
          "autotypenumbers": "strict",
          "coloraxis": {
           "colorbar": {
            "outlinewidth": 0,
            "ticks": ""
           }
          },
          "colorscale": {
           "diverging": [
            [
             0,
             "#8e0152"
            ],
            [
             0.1,
             "#c51b7d"
            ],
            [
             0.2,
             "#de77ae"
            ],
            [
             0.3,
             "#f1b6da"
            ],
            [
             0.4,
             "#fde0ef"
            ],
            [
             0.5,
             "#f7f7f7"
            ],
            [
             0.6,
             "#e6f5d0"
            ],
            [
             0.7,
             "#b8e186"
            ],
            [
             0.8,
             "#7fbc41"
            ],
            [
             0.9,
             "#4d9221"
            ],
            [
             1,
             "#276419"
            ]
           ],
           "sequential": [
            [
             0,
             "#0d0887"
            ],
            [
             0.1111111111111111,
             "#46039f"
            ],
            [
             0.2222222222222222,
             "#7201a8"
            ],
            [
             0.3333333333333333,
             "#9c179e"
            ],
            [
             0.4444444444444444,
             "#bd3786"
            ],
            [
             0.5555555555555556,
             "#d8576b"
            ],
            [
             0.6666666666666666,
             "#ed7953"
            ],
            [
             0.7777777777777778,
             "#fb9f3a"
            ],
            [
             0.8888888888888888,
             "#fdca26"
            ],
            [
             1,
             "#f0f921"
            ]
           ],
           "sequentialminus": [
            [
             0,
             "#0d0887"
            ],
            [
             0.1111111111111111,
             "#46039f"
            ],
            [
             0.2222222222222222,
             "#7201a8"
            ],
            [
             0.3333333333333333,
             "#9c179e"
            ],
            [
             0.4444444444444444,
             "#bd3786"
            ],
            [
             0.5555555555555556,
             "#d8576b"
            ],
            [
             0.6666666666666666,
             "#ed7953"
            ],
            [
             0.7777777777777778,
             "#fb9f3a"
            ],
            [
             0.8888888888888888,
             "#fdca26"
            ],
            [
             1,
             "#f0f921"
            ]
           ]
          },
          "colorway": [
           "#636efa",
           "#EF553B",
           "#00cc96",
           "#ab63fa",
           "#FFA15A",
           "#19d3f3",
           "#FF6692",
           "#B6E880",
           "#FF97FF",
           "#FECB52"
          ],
          "font": {
           "color": "#2a3f5f"
          },
          "geo": {
           "bgcolor": "white",
           "lakecolor": "white",
           "landcolor": "#E5ECF6",
           "showlakes": true,
           "showland": true,
           "subunitcolor": "white"
          },
          "hoverlabel": {
           "align": "left"
          },
          "hovermode": "closest",
          "mapbox": {
           "style": "light"
          },
          "paper_bgcolor": "white",
          "plot_bgcolor": "#E5ECF6",
          "polar": {
           "angularaxis": {
            "gridcolor": "white",
            "linecolor": "white",
            "ticks": ""
           },
           "bgcolor": "#E5ECF6",
           "radialaxis": {
            "gridcolor": "white",
            "linecolor": "white",
            "ticks": ""
           }
          },
          "scene": {
           "xaxis": {
            "backgroundcolor": "#E5ECF6",
            "gridcolor": "white",
            "gridwidth": 2,
            "linecolor": "white",
            "showbackground": true,
            "ticks": "",
            "zerolinecolor": "white"
           },
           "yaxis": {
            "backgroundcolor": "#E5ECF6",
            "gridcolor": "white",
            "gridwidth": 2,
            "linecolor": "white",
            "showbackground": true,
            "ticks": "",
            "zerolinecolor": "white"
           },
           "zaxis": {
            "backgroundcolor": "#E5ECF6",
            "gridcolor": "white",
            "gridwidth": 2,
            "linecolor": "white",
            "showbackground": true,
            "ticks": "",
            "zerolinecolor": "white"
           }
          },
          "shapedefaults": {
           "line": {
            "color": "#2a3f5f"
           }
          },
          "ternary": {
           "aaxis": {
            "gridcolor": "white",
            "linecolor": "white",
            "ticks": ""
           },
           "baxis": {
            "gridcolor": "white",
            "linecolor": "white",
            "ticks": ""
           },
           "bgcolor": "#E5ECF6",
           "caxis": {
            "gridcolor": "white",
            "linecolor": "white",
            "ticks": ""
           }
          },
          "title": {
           "x": 0.05
          },
          "xaxis": {
           "automargin": true,
           "gridcolor": "white",
           "linecolor": "white",
           "ticks": "",
           "title": {
            "standoff": 15
           },
           "zerolinecolor": "white",
           "zerolinewidth": 2
          },
          "yaxis": {
           "automargin": true,
           "gridcolor": "white",
           "linecolor": "white",
           "ticks": "",
           "title": {
            "standoff": 15
           },
           "zerolinecolor": "white",
           "zerolinewidth": 2
          }
         }
        },
        "title": {
         "text": "2D Chroma Vector Store Visualization"
        },
        "width": 800,
        "xaxis": {
         "gridcolor": "lightgray",
         "zerolinecolor": "lightgray"
        },
        "yaxis": {
         "gridcolor": "lightgray",
         "zerolinecolor": "lightgray"
        }
       }
      }
     },
     "metadata": {},
     "output_type": "display_data"
    }
   ],
   "source": [
    "# We humans find it easier to visalize things in 2D!\n",
    "# Reduce the dimensionality of the vectors to 2D using t-SNE\n",
    "# (t-distributed stochastic neighbor embedding)\n",
    "\n",
    "tsne = TSNE(n_components=2, random_state=42)\n",
    "reduced_vectors = tsne.fit_transform(vectors)\n",
    "\n",
    "# Create the 2D scatter plot\n",
    "fig = go.Figure(data=[go.Scatter(\n",
    "    x=reduced_vectors[:, 0],\n",
    "    y=reduced_vectors[:, 1],\n",
    "    mode='markers',\n",
    "    marker=dict(size=8, color=colors, opacity=0.8),\n",
    "    text=[f\"Type: {t}<br>Text: {d[:100]}...\" for t, d in zip(doc_types, documents)],\n",
    "    hoverinfo='text'\n",
    ")])\n",
    "\n",
    "fig.update_layout(\n",
    "    title='2D Chroma Vector Store Visualization',\n",
    "    plot_bgcolor='black',\n",
    "    paper_bgcolor='black',\n",
    "    font=dict(color='black'),\n",
    "    xaxis=dict(gridcolor='lightgray', zerolinecolor='lightgray'),\n",
    "    yaxis=dict(gridcolor='lightgray', zerolinecolor='lightgray'),\n",
    "    width=800,\n",
    "    height=600,\n",
    "    margin=dict(r=20, b=10, l=10, t=40),\n",
    ")\n",
    "\n",
    "\n",
    "fig.show()"
   ]
  },
  {
   "cell_type": "code",
   "execution_count": 29,
   "id": "71364356-7edb-4e72-a7ba-f6284d4a998d",
   "metadata": {},
   "outputs": [
    {
     "data": {
      "application/vnd.plotly.v1+json": {
       "config": {
        "plotlyServerURL": "https://plot.ly"
       },
       "data": [
        {
         "hoverinfo": "text",
         "marker": {
          "color": [
           "#8B4513",
           "red",
           "#FF8C00",
           "blue",
           "#4B0082",
           "#4682B4",
           "#4682B4",
           "#4682B4",
           "#8B4513",
           "#8B4513",
           "#8B4513",
           "#8B4513",
           "#2F4F4F",
           "#2F4F4F",
           "#2F4F4F",
           "red",
           "red",
           "red",
           "red",
           "red",
           "red",
           "#228B22",
           "#228B22",
           "#228B22",
           "#FF8C00",
           "#FF8C00",
           "#FF8C00",
           "#FF8C00",
           "blue",
           "gray",
           "gray",
           "gray",
           "gray",
           "#20B2AA",
           "#20B2AA",
           "#20B2AA",
           "#4B0082",
           "#4B0082",
           "#4B0082",
           "#4B0082",
           "#4B0082",
           "#DAA520",
           "#DAA520",
           "#DAA520",
           "#4682B4",
           "#4682B4",
           "#4682B4",
           "#8B4513",
           "#8B4513",
           "#8B4513",
           "#8B4513",
           "#2F4F4F",
           "#2F4F4F",
           "#2F4F4F",
           "red",
           "red",
           "red",
           "red",
           "red",
           "red",
           "#228B22",
           "#228B22",
           "#228B22",
           "#FF8C00",
           "#FF8C00",
           "#FF8C00",
           "#FF8C00",
           "gray",
           "gray",
           "gray",
           "gray",
           "gray",
           "#20B2AA",
           "#20B2AA",
           "#20B2AA",
           "#4B0082",
           "#4B0082",
           "#4B0082",
           "#4B0082",
           "#4B0082",
           "#DAA520",
           "#DAA520",
           "#DAA520",
           "#4682B4",
           "#4682B4",
           "#4682B4",
           "#8B4513",
           "#8B4513",
           "#8B4513",
           "#8B4513",
           "#2F4F4F",
           "#2F4F4F",
           "#2F4F4F",
           "red",
           "red",
           "red",
           "red",
           "red",
           "red",
           "#228B22",
           "#228B22",
           "#228B22",
           "#FF8C00",
           "#FF8C00",
           "#FF8C00",
           "#FF8C00",
           "gray",
           "gray",
           "gray",
           "gray",
           "gray",
           "#20B2AA",
           "#20B2AA",
           "#20B2AA",
           "#4B0082",
           "#4B0082",
           "#4B0082",
           "#4B0082",
           "#4B0082",
           "#DAA520",
           "#DAA520",
           "#DAA520"
          ],
          "opacity": 0.8,
          "size": 8
         },
         "mode": "markers",
         "text": [
          "Type: company<br>Text: 会社名：InsureLLM株式会社\n設立：2018年4月\n所在地：東京都港区南青山1-2-3\n従業員数：120名（2025年現在）\n事業内容：\n- 保険業界向けAIソリューションの開発・提供\n- 教育...",
          "Type: customer<br>Text: 事例：SOMPO ホールディングス様 \n \n課題： \n- 保険金請求の処理に平均 3.2 日かかっていた \n- 顧客満足度が低下傾向 \n \n導入ソリューション： \n- ClaimVision＋Insu...",
          "Type: news<br>Text: 2025年8月号社内報より抜粋：\n\n- 新卒採用：2026年度はAIエンジニア10名、データサイエンティスト5名を予定\n\n- 社内ハッカソン開催：テーマは「教育×生成AI」\n\n- GPT-4o-min...",
          "Type: product<br>Text: # 製品一覧\n\n## InsureGPT API\n\n- 保険契約書の自動要約\n- 顧客対応チャットボットへの組み込み\n- 保険金請求の自動分類\n\n## EduInsight\n\n- 教育機関向け成績分析...",
          "Type: sales<br>Text: 年度 製品名 売上(百万円) 顧客数 2023 InsureGPT AI 320 18社 2024 EduInsight 450 22社 2025 ClaimVision 220 10社...",
          "Type: analytics<br>Text: 月：4月\n製品：EduInsight\n売上：226百万円\n新規顧客：1社...",
          "Type: analytics<br>Text: 月：2月\n製品：EduInsight\n売上：519百万円\n新規顧客：1社...",
          "Type: analytics<br>Text: 月：4月\n製品：EduInsight\n売上：327百万円\n新規顧客：2社...",
          "Type: company<br>Text: InsureLLM株式会社は2024年に設立され、名古屋市中区に本社を構えるAI企業です。...",
          "Type: company<br>Text: InsureLLM株式会社は2024年に設立され、名古屋市中区に本社を構えるAI企業です。...",
          "Type: company<br>Text: InsureLLM株式会社は2025年に設立され、名古屋市中区に本社を構えるAI企業です。...",
          "Type: company<br>Text: 会社名：InsureLLM株式会社\n設立：2018年4月\n所在地：東京都港区南青山1-2-3\n従業員数：120名（2025年現在）\n事業内容：\n- 保険業界向けAIソリューションの開発・提供\n- 教育...",
          "Type: contracts<br>Text: 契約種別：利用規約\n有効期間：4年\n対象：パートナー企業...",
          "Type: contracts<br>Text: 契約種別：NDA\n有効期間：3年\n対象：パートナー企業...",
          "Type: contracts<br>Text: 契約種別：業務委託契約\n有効期間：3年\n対象：顧客...",
          "Type: customer<br>Text: 事例：SOMPO ホールディングス様 \n \n課題： \n- 保険金請求の処理に平均 3.2 日かかっていた \n- 顧客満足度が低下傾向 \n \n導入ソリューション： \n- ClaimVision＋Insu...",
          "Type: customer<br>Text: 事例：SOMPO社\n課題：顧客満足度低下\n成果：業務効率化...",
          "Type: customer<br>Text: 事例：SOMPO社\n課題：顧客満足度低下\n成果：満足度向上...",
          "Type: customer<br>Text: 事例：SOMPO社\n課題：処理遅延\n成果：満足度向上...",
          "Type: customer<br>Text: 事例：ベネッセ社\n課題：処理遅延\n成果：業務効率化...",
          "Type: customer<br>Text: 事例：楽天損保社\n課題：手作業の多さ\n成果：業務効率化...",
          "Type: employees<br>Text: 社員名：社員1\n所属：技術部\n役職：データサイエンティスト...",
          "Type: employees<br>Text: 社員名：社員2\n所属：技術部\n役職：営業マネージャー...",
          "Type: employees<br>Text: 社員名：社員3\n所属：人事部\n役職：データサイエンティスト...",
          "Type: news<br>Text: 2025年8月号社内報より抜粋：\n\n- 新卒採用：2026年度はAIエンジニア10名、データサイエンティスト5名を予定\n\n- 社内ハッカソン開催：テーマは「教育×生成AI」\n\n- GPT-4o-min...",
          "Type: news<br>Text: 【5月月号社内報】\nトピック：GPT-4o-mini開発...",
          "Type: news<br>Text: 【4月月号社内報】\nトピック：GPT-4o-mini開発...",
          "Type: news<br>Text: 【1月月号社内報】\nトピック：新卒採用...",
          "Type: product<br>Text: # 製品一覧\n\n## InsureGPT API\n\n- 保険契約書の自動要約\n- 顧客対応チャットボットへの組み込み\n- 保険金請求の自動分類\n\n## EduInsight\n\n- 教育機関向け成績分析...",
          "Type: products<br>Text: 製品名：EduInsight\n特徴：学習分析...",
          "Type: products<br>Text: 製品名：ClaimVision\n特徴：学習分析...",
          "Type: products<br>Text: 製品名：InsureGPT API\n特徴：自然言語処理...",
          "Type: products<br>Text: 製品名：InsureGPT API\n特徴：OCR分類...",
          "Type: research<br>Text: 研究テーマ：LLMの多言語対応\n開始時期：Q4 2025\n責任者：研究員1...",
          "Type: research<br>Text: 研究テーマ：教育AIの最適化\n開始時期：Q4 2025\n責任者：研究員2...",
          "Type: research<br>Text: 研究テーマ：保険金請求の自動化\n開始時期：Q1 2024\n責任者：研究員3...",
          "Type: sales<br>Text: 年度 製品名 売上(百万円) 顧客数 2023 InsureGPT AI 320 18社 2024 EduInsight 450 22社 2025 ClaimVision 220 10社...",
          "Type: sales<br>Text: 年度：2022\n製品：EduInsight\n売上：317百万円\n顧客数：18社...",
          "Type: sales<br>Text: 年度：2023\n製品：EduInsight\n売上：361百万円\n顧客数：15社...",
          "Type: sales<br>Text: 年度：2022\n製品：ClaimVision\n売上：505百万円\n顧客数：10社...",
          "Type: sales<br>Text: 年度：2022\n製品：ClaimVision\n売上：211百万円\n顧客数：5社...",
          "Type: training<br>Text: 研修名：AI研修1\n対象部門：技術部\n講師：外部講師...",
          "Type: training<br>Text: 研修名：AI研修2\n対象部門：営業部\n講師：外部講師...",
          "Type: training<br>Text: 研修名：AI研修3\n対象部門：営業部\n講師：AIチーム...",
          "Type: analytics<br>Text: 月：4月\n\n製品：EduInsight\n\n売上：226百万円\n\n新規顧客：1社...",
          "Type: analytics<br>Text: 月：2月\n製品：EduInsight\n売上：519百万円\n新規顧客：1社...",
          "Type: analytics<br>Text: 月：4月\n製品：EduInsight\n売上：327百万円\n新規顧客：2社...",
          "Type: company<br>Text: InsureLLM株式会社は2024年に設立され、名古屋市中区に本社を構えるAI企業です。...",
          "Type: company<br>Text: InsureLLM株式会社は2024年に設立され、名古屋市中区に本社を構えるAI企業です。...",
          "Type: company<br>Text: InsureLLM株式会社は2025年に設立され、名古屋市中区に本社を構えるAI企業です。...",
          "Type: company<br>Text: 会社名：InsureLLM 株式会社 \n設立：2018 年 4 月 \n所在地：東京都港区南青山 1-2-3 \n従業員数：120 名（2025 年現在） \n事業内容： \n- 保険業界向け AI ソリュー...",
          "Type: contracts<br>Text: 契約種別：利用規約\n有効期間：4年\n対象：パートナー企業...",
          "Type: contracts<br>Text: 契約種別：NDA\n有効期間：3年\n対象：パートナー企業...",
          "Type: contracts<br>Text: 契約種別：業務委託契約\n有効期間：3年\n対象：顧客...",
          "Type: customer<br>Text: 事例：SOMPO ホールディングス様 \n \n課題： \n- 保険金請求の処理に平均 3.2 日かかっていた \n- 顧客満足度が低下傾向 \n \n導入ソリューション： \n- ClaimVision＋Insu...",
          "Type: customer<br>Text: 事例：SOMPO社\n課題：顧客満足度低下\n成果：業務効率化...",
          "Type: customer<br>Text: 事例：SOMPO社\n課題：顧客満足度低下\n成果：満足度向上...",
          "Type: customer<br>Text: 事例：SOMPO社\n課題：処理遅延\n成果：満足度向上...",
          "Type: customer<br>Text: 事例：ベネッセ社\n課題：処理遅延\n成果：業務効率化...",
          "Type: customer<br>Text: 事例：楽天損保社\n課題：手作業の多さ\n成果：業務効率化...",
          "Type: employees<br>Text: 社員名：社員1\n所属：技術部\n役職：データサイエンティスト...",
          "Type: employees<br>Text: 社員名：社員2\n所属：技術部\n役職：営業マネージャー...",
          "Type: employees<br>Text: 社員名：社員3\n所属：人事部\n役職：データサイエンティスト...",
          "Type: news<br>Text: 2025年8月号社内報より抜粋：\n\n- 新卒採用：2026年度はAIエンジニア10名、データサイエンティスト5名を予定\n\n- 社内ハッカソン開催：テーマは「教育×生成AI」\n\n- GPT-4o-min...",
          "Type: news<br>Text: 【5月月号社内報】\nトピック：GPT-4o-mini開発...",
          "Type: news<br>Text: 【4月月号社内報】\nトピック：GPT-4o-mini開発...",
          "Type: news<br>Text: 【1月月号社内報】\nトピック：新卒採用...",
          "Type: products<br>Text: # 製品一覧\n\n## InsureGPT API\n\n- 保険契約書の自動要約\n- 顧客対応チャットボットへの組み込み\n- 保険金請求の自動分類\n\n## EduInsight\n\n- 教育機関向け成績分析...",
          "Type: products<br>Text: 製品名：EduInsight\n特徴：学習分析...",
          "Type: products<br>Text: 製品名：ClaimVision\n特徴：学習分析...",
          "Type: products<br>Text: 製品名：InsureGPT API\n特徴：自然言語処理...",
          "Type: products<br>Text: 製品名：InsureGPT API\n特徴：OCR分類...",
          "Type: research<br>Text: 研究テーマ：LLMの多言語対応\n開始時期：Q4 2025\n責任者：研究員1...",
          "Type: research<br>Text: 研究テーマ：教育AIの最適化\n開始時期：Q4 2025\n責任者：研究員2...",
          "Type: research<br>Text: 研究テーマ：保険金請求の自動化\n開始時期：Q1 2024\n責任者：研究員3...",
          "Type: sales<br>Text: 年度 製品名 売上(百万円) 顧客数 2023 InsureGPT AI 320 18社 2024 EduInsight 450 22社 2025 ClaimVision 220 10社...",
          "Type: sales<br>Text: 年度：2022\n製品：EduInsight\n売上：317百万円\n顧客数：18社...",
          "Type: sales<br>Text: 年度：2023\n製品：EduInsight\n売上：361百万円\n顧客数：15社...",
          "Type: sales<br>Text: 年度：2022\n製品：ClaimVision\n売上：505百万円\n顧客数：10社...",
          "Type: sales<br>Text: 年度：2022\n製品：ClaimVision\n売上：211百万円\n顧客数：5社...",
          "Type: training<br>Text: 研修名：AI研修1\n対象部門：技術部\n講師：外部講師...",
          "Type: training<br>Text: 研修名：AI研修2\n対象部門：営業部\n講師：外部講師...",
          "Type: training<br>Text: 研修名：AI研修3\n対象部門：営業部\n講師：AIチーム...",
          "Type: analytics<br>Text: 月：4月\n\n製品：EduInsight\n\n売上：226百万円\n\n新規顧客：1社...",
          "Type: analytics<br>Text: 月：2月\n製品：EduInsight\n売上：519百万円\n新規顧客：1社...",
          "Type: analytics<br>Text: 月：4月\n製品：EduInsight\n売上：327百万円\n新規顧客：2社...",
          "Type: company<br>Text: InsureLLM株式会社は2024年に設立され、名古屋市中区に本社を構えるAI企業です。...",
          "Type: company<br>Text: InsureLLM株式会社は2024年に設立され、名古屋市中区に本社を構えるAI企業です。...",
          "Type: company<br>Text: InsureLLM株式会社は2025年に設立され、名古屋市中区に本社を構えるAI企業です。...",
          "Type: company<br>Text: 会社名：InsureLLM 株式会社 \n設立：2018 年 4 月 \n所在地：東京都港区南青山 1-2-3 \n従業員数：120 名（2025 年現在） \n事業内容： \n- 保険業界向け AI ソリュー...",
          "Type: contracts<br>Text: 契約種別：利用規約\n有効期間：4年\n対象：パートナー企業...",
          "Type: contracts<br>Text: 契約種別：NDA\n有効期間：3年\n対象：パートナー企業...",
          "Type: contracts<br>Text: 契約種別：業務委託契約\n有効期間：3年\n対象：顧客...",
          "Type: customer<br>Text: 事例：SOMPO ホールディングス様 \n \n課題： \n- 保険金請求の処理に平均 3.2 日かかっていた \n- 顧客満足度が低下傾向 \n \n導入ソリューション： \n- ClaimVision＋Insu...",
          "Type: customer<br>Text: 事例：SOMPO社\n課題：顧客満足度低下\n成果：業務効率化...",
          "Type: customer<br>Text: 事例：SOMPO社\n課題：顧客満足度低下\n成果：満足度向上...",
          "Type: customer<br>Text: 事例：SOMPO社\n課題：処理遅延\n成果：満足度向上...",
          "Type: customer<br>Text: 事例：ベネッセ社\n課題：処理遅延\n成果：業務効率化...",
          "Type: customer<br>Text: 事例：楽天損保社\n課題：手作業の多さ\n成果：業務効率化...",
          "Type: employees<br>Text: 社員名：社員1\n所属：技術部\n役職：データサイエンティスト...",
          "Type: employees<br>Text: 社員名：社員2\n所属：技術部\n役職：営業マネージャー...",
          "Type: employees<br>Text: 社員名：社員3\n所属：人事部\n役職：データサイエンティスト...",
          "Type: news<br>Text: 2025年8月号社内報より抜粋：\n\n- 新卒採用：2026年度はAIエンジニア10名、データサイエンティスト5名を予定\n\n- 社内ハッカソン開催：テーマは「教育×生成AI」\n\n- GPT-4o-min...",
          "Type: news<br>Text: 【5月月号社内報】\nトピック：GPT-4o-mini開発...",
          "Type: news<br>Text: 【4月月号社内報】\nトピック：GPT-4o-mini開発...",
          "Type: news<br>Text: 【1月月号社内報】\nトピック：新卒採用...",
          "Type: products<br>Text: # 製品一覧\n\n## InsureGPT API\n\n- 保険契約書の自動要約\n- 顧客対応チャットボットへの組み込み\n- 保険金請求の自動分類\n\n## EduInsight\n\n- 教育機関向け成績分析...",
          "Type: products<br>Text: 製品名：EduInsight\n特徴：学習分析...",
          "Type: products<br>Text: 製品名：ClaimVision\n特徴：学習分析...",
          "Type: products<br>Text: 製品名：InsureGPT API\n特徴：自然言語処理...",
          "Type: products<br>Text: 製品名：InsureGPT API\n特徴：OCR分類...",
          "Type: research<br>Text: 研究テーマ：LLMの多言語対応\n開始時期：Q4 2025\n責任者：研究員1...",
          "Type: research<br>Text: 研究テーマ：教育AIの最適化\n開始時期：Q4 2025\n責任者：研究員2...",
          "Type: research<br>Text: 研究テーマ：保険金請求の自動化\n開始時期：Q1 2024\n責任者：研究員3...",
          "Type: sales<br>Text: 年度 製品名 売上(百万円) 顧客数 2023 InsureGPT AI 320 18社 2024 EduInsight 450 22社 2025 ClaimVision 220 10社...",
          "Type: sales<br>Text: 年度：2022\n製品：EduInsight\n売上：317百万円\n顧客数：18社...",
          "Type: sales<br>Text: 年度：2023\n製品：EduInsight\n売上：361百万円\n顧客数：15社...",
          "Type: sales<br>Text: 年度：2022\n製品：ClaimVision\n売上：505百万円\n顧客数：10社...",
          "Type: sales<br>Text: 年度：2022\n製品：ClaimVision\n売上：211百万円\n顧客数：5社...",
          "Type: training<br>Text: 研修名：AI研修1\n対象部門：技術部\n講師：外部講師...",
          "Type: training<br>Text: 研修名：AI研修2\n対象部門：営業部\n講師：外部講師...",
          "Type: training<br>Text: 研修名：AI研修3\n対象部門：営業部\n講師：AIチーム..."
         ],
         "type": "scatter3d",
         "x": {
          "bdata": "QoCbwE3DA0KvssJBFRxNwvJsrkLvkE/CHXWHwqoEHcKlpUvBpaVLwR1YvkAr/YjBnRUkQtbQk0IEfmlCS/EXQiOcUUJePWVCF9mZQjGOiUK28llCQ1C3QZd8MUEAeBpB3aDOQZAEpUADF38/Zv1gwZItisKMlU/CGcxCwueRBMKZzQvC6nEIQqZYwkGgwZBCqStLwrNmnMJz+aXCdiMXwiNDFMJrQ4PBwk/rwdF4jcHJDVjCzjiiwqfoPsIc5PrAHOT6wH9P1cDNmolAsZbGwuENgEIX6CRCTcMDQnIOlUKAhjJCwzCSQh3QRkJEUolCVExFQa2TP0EpdbfAcP8yQsmzKMEFI7ZBiQ1cwc90ksJ39pHCHZKCwrGhE8IJHILB/6iPQQkYMEIHdFtCuSeGwt7FwMJnymnCw3pwwnI2O8IB3La+4pyLwTuPMEEDrZ7CHXWHwlwGa8L5WVJBpaVLwR1YvkBu/ss/nRUkQvMUhkIEfmlCRmIhQiOcUUI24IhCGMq0Qq1qdUK28llCQ1C3QZd8MUEAeBpBNFLyQb5mw0DN/UlBZv1gwe1IgcKMlU/CdutkwqDDUMKZVPzBdEQHQqZYwkFk0X9CycAxwtXvo8IPZytBdiMXwiNDFMK17rbBo8+pwH0q7r8=",
          "dtype": "f4"
         },
         "y": {
          "bdata": "x0Z2woW8f8JSt6xCItmXwWqwJcKvI13BbVL3QNrZ30BMEkjBTBJIwcrbtUAeayjC4+46wfuvH8FnrxzCda6JwkOtHkC14o1Bw/8hwWcoucGUcSbCBxr4wZvQBMLjub/AaEmGQiWhOEKLmlxCBcuKQokvCMJ7ek5CorT6Qdk0i8Iaw07Cy6rEQSrjXkLwt05CgX4lwvKSmMEgZ7pACCcawt8KgcLEDCNC/TrzQVJ00kHl6uFB6KpkQYR1mEHH2jxBx9o8QYyYKcFN3CXCB/4kQmnku8BhLQvChbx/wo7wAEBOrt5BKUlCQUCPgsHObEnCRkuYwQ/GU8IIPrbBDLWdQhqXgUKzBmxCJqevQl4rOsFeKj5CdQHyQQgMRsLEDkTC8/DSQc58VkKEsyhC5zphwhvxOr+PhoDAMoNPwicaQ8Jc9b1BBzgiQW36B0EyGwBCbVL3QIH3zr+L8RzBTBJIwcrbtUCJ3y3C4+46wY08IEFnrxzCFdA9wkOtHkCnVNtB7sZPvgvGOcCUcSbCBxr4wZvQBMLjub/AvuSuQsQInELRKohCBcuKQickwsF7ek5CkphGQuUjbsL+zQPCLVe7QSrjXkIhJBRCQ8Z5wm1wjcFYs2/CCCcawt8KgcJYmoVBWjv/Qa3lbMA=",
          "dtype": "f4"
         },
         "z": {
          "bdata": "ux+BwYlTwEAcwKvBJl0ZwsVeXUIseJ5BptG9QQ1H8kG+6sI/vurCPzhETkE/1IPBwikZwiibIsLTaULCqN59weaKOEI8iYtC3X/zQRPQJECYRgRCuD+QQoXBIkKyfn9C3v0RwZqXG0I0gIVBFjmQwfFED8Ls+ghBulbXwXx6RcKVUZzChO5dwaeZQsLwixPAjisQwDzzEkLb40hCMCEpQsmTN0Kztl3CiPaYwsgNZ0K6jhtC3l3cP5zfC0Gcay7BnGsuweANz8EWDtDBc73TwUpVccLzpHbCiVPAQJIzZEK8cE9CBzy/Qd4yQUH/X51B9sCyQoRKSkJo7opC67lpwePiE0KJ+NlBqT8BwRIVHsJwCCM/QUIiwtw3KcKQ0YTCVvPQwVbnIsJYL4JAbWF0QHHOzUHpTE1COG8pQp5TgUJYX2DCKRagwnNam8Jhte9BptG9QTq5HcCBqQTBvurCPzhETkEaDSHAwikZwofmNsLTaULCQFkEweaKOELtkkZCKwN0QSSfez2YRgRCuD+QQoXBIkKyfn9CzQTuPglIzkG/vz1CFjmQwQC+YsLs+ghBKvAKwi4sWMJqlIbCDtMZwqeZQsJdwWXBvZieQPI3JEGmLi/DMCEpQsmTN0Jvq1bCp3Chwowrd8I=",
          "dtype": "f4"
         }
        }
       ],
       "layout": {
        "font": {
         "color": "white"
        },
        "height": 700,
        "margin": {
         "b": 10,
         "l": 10,
         "r": 20,
         "t": 40
        },
        "paper_bgcolor": "black",
        "plot_bgcolor": "black",
        "scene": {
         "xaxis": {
          "backgroundcolor": "black",
          "color": "white",
          "showbackground": true
         },
         "yaxis": {
          "backgroundcolor": "black",
          "color": "white",
          "showbackground": true
         },
         "zaxis": {
          "backgroundcolor": "black",
          "color": "white",
          "showbackground": true
         }
        },
        "template": {
         "data": {
          "bar": [
           {
            "error_x": {
             "color": "#2a3f5f"
            },
            "error_y": {
             "color": "#2a3f5f"
            },
            "marker": {
             "line": {
              "color": "#E5ECF6",
              "width": 0.5
             },
             "pattern": {
              "fillmode": "overlay",
              "size": 10,
              "solidity": 0.2
             }
            },
            "type": "bar"
           }
          ],
          "barpolar": [
           {
            "marker": {
             "line": {
              "color": "#E5ECF6",
              "width": 0.5
             },
             "pattern": {
              "fillmode": "overlay",
              "size": 10,
              "solidity": 0.2
             }
            },
            "type": "barpolar"
           }
          ],
          "carpet": [
           {
            "aaxis": {
             "endlinecolor": "#2a3f5f",
             "gridcolor": "white",
             "linecolor": "white",
             "minorgridcolor": "white",
             "startlinecolor": "#2a3f5f"
            },
            "baxis": {
             "endlinecolor": "#2a3f5f",
             "gridcolor": "white",
             "linecolor": "white",
             "minorgridcolor": "white",
             "startlinecolor": "#2a3f5f"
            },
            "type": "carpet"
           }
          ],
          "choropleth": [
           {
            "colorbar": {
             "outlinewidth": 0,
             "ticks": ""
            },
            "type": "choropleth"
           }
          ],
          "contour": [
           {
            "colorbar": {
             "outlinewidth": 0,
             "ticks": ""
            },
            "colorscale": [
             [
              0,
              "#0d0887"
             ],
             [
              0.1111111111111111,
              "#46039f"
             ],
             [
              0.2222222222222222,
              "#7201a8"
             ],
             [
              0.3333333333333333,
              "#9c179e"
             ],
             [
              0.4444444444444444,
              "#bd3786"
             ],
             [
              0.5555555555555556,
              "#d8576b"
             ],
             [
              0.6666666666666666,
              "#ed7953"
             ],
             [
              0.7777777777777778,
              "#fb9f3a"
             ],
             [
              0.8888888888888888,
              "#fdca26"
             ],
             [
              1,
              "#f0f921"
             ]
            ],
            "type": "contour"
           }
          ],
          "contourcarpet": [
           {
            "colorbar": {
             "outlinewidth": 0,
             "ticks": ""
            },
            "type": "contourcarpet"
           }
          ],
          "heatmap": [
           {
            "colorbar": {
             "outlinewidth": 0,
             "ticks": ""
            },
            "colorscale": [
             [
              0,
              "#0d0887"
             ],
             [
              0.1111111111111111,
              "#46039f"
             ],
             [
              0.2222222222222222,
              "#7201a8"
             ],
             [
              0.3333333333333333,
              "#9c179e"
             ],
             [
              0.4444444444444444,
              "#bd3786"
             ],
             [
              0.5555555555555556,
              "#d8576b"
             ],
             [
              0.6666666666666666,
              "#ed7953"
             ],
             [
              0.7777777777777778,
              "#fb9f3a"
             ],
             [
              0.8888888888888888,
              "#fdca26"
             ],
             [
              1,
              "#f0f921"
             ]
            ],
            "type": "heatmap"
           }
          ],
          "histogram": [
           {
            "marker": {
             "pattern": {
              "fillmode": "overlay",
              "size": 10,
              "solidity": 0.2
             }
            },
            "type": "histogram"
           }
          ],
          "histogram2d": [
           {
            "colorbar": {
             "outlinewidth": 0,
             "ticks": ""
            },
            "colorscale": [
             [
              0,
              "#0d0887"
             ],
             [
              0.1111111111111111,
              "#46039f"
             ],
             [
              0.2222222222222222,
              "#7201a8"
             ],
             [
              0.3333333333333333,
              "#9c179e"
             ],
             [
              0.4444444444444444,
              "#bd3786"
             ],
             [
              0.5555555555555556,
              "#d8576b"
             ],
             [
              0.6666666666666666,
              "#ed7953"
             ],
             [
              0.7777777777777778,
              "#fb9f3a"
             ],
             [
              0.8888888888888888,
              "#fdca26"
             ],
             [
              1,
              "#f0f921"
             ]
            ],
            "type": "histogram2d"
           }
          ],
          "histogram2dcontour": [
           {
            "colorbar": {
             "outlinewidth": 0,
             "ticks": ""
            },
            "colorscale": [
             [
              0,
              "#0d0887"
             ],
             [
              0.1111111111111111,
              "#46039f"
             ],
             [
              0.2222222222222222,
              "#7201a8"
             ],
             [
              0.3333333333333333,
              "#9c179e"
             ],
             [
              0.4444444444444444,
              "#bd3786"
             ],
             [
              0.5555555555555556,
              "#d8576b"
             ],
             [
              0.6666666666666666,
              "#ed7953"
             ],
             [
              0.7777777777777778,
              "#fb9f3a"
             ],
             [
              0.8888888888888888,
              "#fdca26"
             ],
             [
              1,
              "#f0f921"
             ]
            ],
            "type": "histogram2dcontour"
           }
          ],
          "mesh3d": [
           {
            "colorbar": {
             "outlinewidth": 0,
             "ticks": ""
            },
            "type": "mesh3d"
           }
          ],
          "parcoords": [
           {
            "line": {
             "colorbar": {
              "outlinewidth": 0,
              "ticks": ""
             }
            },
            "type": "parcoords"
           }
          ],
          "pie": [
           {
            "automargin": true,
            "type": "pie"
           }
          ],
          "scatter": [
           {
            "fillpattern": {
             "fillmode": "overlay",
             "size": 10,
             "solidity": 0.2
            },
            "type": "scatter"
           }
          ],
          "scatter3d": [
           {
            "line": {
             "colorbar": {
              "outlinewidth": 0,
              "ticks": ""
             }
            },
            "marker": {
             "colorbar": {
              "outlinewidth": 0,
              "ticks": ""
             }
            },
            "type": "scatter3d"
           }
          ],
          "scattercarpet": [
           {
            "marker": {
             "colorbar": {
              "outlinewidth": 0,
              "ticks": ""
             }
            },
            "type": "scattercarpet"
           }
          ],
          "scattergeo": [
           {
            "marker": {
             "colorbar": {
              "outlinewidth": 0,
              "ticks": ""
             }
            },
            "type": "scattergeo"
           }
          ],
          "scattergl": [
           {
            "marker": {
             "colorbar": {
              "outlinewidth": 0,
              "ticks": ""
             }
            },
            "type": "scattergl"
           }
          ],
          "scattermap": [
           {
            "marker": {
             "colorbar": {
              "outlinewidth": 0,
              "ticks": ""
             }
            },
            "type": "scattermap"
           }
          ],
          "scattermapbox": [
           {
            "marker": {
             "colorbar": {
              "outlinewidth": 0,
              "ticks": ""
             }
            },
            "type": "scattermapbox"
           }
          ],
          "scatterpolar": [
           {
            "marker": {
             "colorbar": {
              "outlinewidth": 0,
              "ticks": ""
             }
            },
            "type": "scatterpolar"
           }
          ],
          "scatterpolargl": [
           {
            "marker": {
             "colorbar": {
              "outlinewidth": 0,
              "ticks": ""
             }
            },
            "type": "scatterpolargl"
           }
          ],
          "scatterternary": [
           {
            "marker": {
             "colorbar": {
              "outlinewidth": 0,
              "ticks": ""
             }
            },
            "type": "scatterternary"
           }
          ],
          "surface": [
           {
            "colorbar": {
             "outlinewidth": 0,
             "ticks": ""
            },
            "colorscale": [
             [
              0,
              "#0d0887"
             ],
             [
              0.1111111111111111,
              "#46039f"
             ],
             [
              0.2222222222222222,
              "#7201a8"
             ],
             [
              0.3333333333333333,
              "#9c179e"
             ],
             [
              0.4444444444444444,
              "#bd3786"
             ],
             [
              0.5555555555555556,
              "#d8576b"
             ],
             [
              0.6666666666666666,
              "#ed7953"
             ],
             [
              0.7777777777777778,
              "#fb9f3a"
             ],
             [
              0.8888888888888888,
              "#fdca26"
             ],
             [
              1,
              "#f0f921"
             ]
            ],
            "type": "surface"
           }
          ],
          "table": [
           {
            "cells": {
             "fill": {
              "color": "#EBF0F8"
             },
             "line": {
              "color": "white"
             }
            },
            "header": {
             "fill": {
              "color": "#C8D4E3"
             },
             "line": {
              "color": "white"
             }
            },
            "type": "table"
           }
          ]
         },
         "layout": {
          "annotationdefaults": {
           "arrowcolor": "#2a3f5f",
           "arrowhead": 0,
           "arrowwidth": 1
          },
          "autotypenumbers": "strict",
          "coloraxis": {
           "colorbar": {
            "outlinewidth": 0,
            "ticks": ""
           }
          },
          "colorscale": {
           "diverging": [
            [
             0,
             "#8e0152"
            ],
            [
             0.1,
             "#c51b7d"
            ],
            [
             0.2,
             "#de77ae"
            ],
            [
             0.3,
             "#f1b6da"
            ],
            [
             0.4,
             "#fde0ef"
            ],
            [
             0.5,
             "#f7f7f7"
            ],
            [
             0.6,
             "#e6f5d0"
            ],
            [
             0.7,
             "#b8e186"
            ],
            [
             0.8,
             "#7fbc41"
            ],
            [
             0.9,
             "#4d9221"
            ],
            [
             1,
             "#276419"
            ]
           ],
           "sequential": [
            [
             0,
             "#0d0887"
            ],
            [
             0.1111111111111111,
             "#46039f"
            ],
            [
             0.2222222222222222,
             "#7201a8"
            ],
            [
             0.3333333333333333,
             "#9c179e"
            ],
            [
             0.4444444444444444,
             "#bd3786"
            ],
            [
             0.5555555555555556,
             "#d8576b"
            ],
            [
             0.6666666666666666,
             "#ed7953"
            ],
            [
             0.7777777777777778,
             "#fb9f3a"
            ],
            [
             0.8888888888888888,
             "#fdca26"
            ],
            [
             1,
             "#f0f921"
            ]
           ],
           "sequentialminus": [
            [
             0,
             "#0d0887"
            ],
            [
             0.1111111111111111,
             "#46039f"
            ],
            [
             0.2222222222222222,
             "#7201a8"
            ],
            [
             0.3333333333333333,
             "#9c179e"
            ],
            [
             0.4444444444444444,
             "#bd3786"
            ],
            [
             0.5555555555555556,
             "#d8576b"
            ],
            [
             0.6666666666666666,
             "#ed7953"
            ],
            [
             0.7777777777777778,
             "#fb9f3a"
            ],
            [
             0.8888888888888888,
             "#fdca26"
            ],
            [
             1,
             "#f0f921"
            ]
           ]
          },
          "colorway": [
           "#636efa",
           "#EF553B",
           "#00cc96",
           "#ab63fa",
           "#FFA15A",
           "#19d3f3",
           "#FF6692",
           "#B6E880",
           "#FF97FF",
           "#FECB52"
          ],
          "font": {
           "color": "#2a3f5f"
          },
          "geo": {
           "bgcolor": "white",
           "lakecolor": "white",
           "landcolor": "#E5ECF6",
           "showlakes": true,
           "showland": true,
           "subunitcolor": "white"
          },
          "hoverlabel": {
           "align": "left"
          },
          "hovermode": "closest",
          "mapbox": {
           "style": "light"
          },
          "paper_bgcolor": "white",
          "plot_bgcolor": "#E5ECF6",
          "polar": {
           "angularaxis": {
            "gridcolor": "white",
            "linecolor": "white",
            "ticks": ""
           },
           "bgcolor": "#E5ECF6",
           "radialaxis": {
            "gridcolor": "white",
            "linecolor": "white",
            "ticks": ""
           }
          },
          "scene": {
           "xaxis": {
            "backgroundcolor": "#E5ECF6",
            "gridcolor": "white",
            "gridwidth": 2,
            "linecolor": "white",
            "showbackground": true,
            "ticks": "",
            "zerolinecolor": "white"
           },
           "yaxis": {
            "backgroundcolor": "#E5ECF6",
            "gridcolor": "white",
            "gridwidth": 2,
            "linecolor": "white",
            "showbackground": true,
            "ticks": "",
            "zerolinecolor": "white"
           },
           "zaxis": {
            "backgroundcolor": "#E5ECF6",
            "gridcolor": "white",
            "gridwidth": 2,
            "linecolor": "white",
            "showbackground": true,
            "ticks": "",
            "zerolinecolor": "white"
           }
          },
          "shapedefaults": {
           "line": {
            "color": "#2a3f5f"
           }
          },
          "ternary": {
           "aaxis": {
            "gridcolor": "white",
            "linecolor": "white",
            "ticks": ""
           },
           "baxis": {
            "gridcolor": "white",
            "linecolor": "white",
            "ticks": ""
           },
           "bgcolor": "#E5ECF6",
           "caxis": {
            "gridcolor": "white",
            "linecolor": "white",
            "ticks": ""
           }
          },
          "title": {
           "x": 0.05
          },
          "xaxis": {
           "automargin": true,
           "gridcolor": "white",
           "linecolor": "white",
           "ticks": "",
           "title": {
            "standoff": 15
           },
           "zerolinecolor": "white",
           "zerolinewidth": 2
          },
          "yaxis": {
           "automargin": true,
           "gridcolor": "white",
           "linecolor": "white",
           "ticks": "",
           "title": {
            "standoff": 15
           },
           "zerolinecolor": "white",
           "zerolinewidth": 2
          }
         }
        },
        "title": {
         "text": "3D Chroma Vector Store Visualization"
        },
        "width": 900
       }
      },
      "image/png": "[encoded data removed]"
     },
     "metadata": {},
     "output_type": "display_data"
    }
   ],
   "source": [
    "# Let's try 3D!\n",
    "\n",
    "tsne = TSNE(n_components=3, random_state=42)\n",
    "reduced_vectors = tsne.fit_transform(vectors)\n",
    "\n",
    "# Create the 3D scatter plot\n",
    "fig = go.Figure(data=[go.Scatter3d(\n",
    "    x=reduced_vectors[:, 0],\n",
    "    y=reduced_vectors[:, 1],\n",
    "    z=reduced_vectors[:, 2],\n",
    "    mode='markers',\n",
    "    marker=dict(size=8, color=colors, opacity=0.8),\n",
    "    text=[f\"Type: {t}<br>Text: {d[:100]}...\" for t, d in zip(doc_types, documents)],\n",
    "    hoverinfo='text'\n",
    ")])\n",
    "\n",
    "fig.update_layout(\n",
    "    title='3D Chroma Vector Store Visualization',\n",
    "    plot_bgcolor='black',\n",
    "    paper_bgcolor='black',\n",
    "    font=dict(color='white'),\n",
    "    scene=dict(\n",
    "        xaxis=dict(color='white', backgroundcolor='black', showbackground=True),\n",
    "        yaxis=dict(color='white', backgroundcolor='black', showbackground=True),\n",
    "        zaxis=dict(color='white', backgroundcolor='black', showbackground=True)\n",
    "    ),\n",
    "    width=900,\n",
    "    height=700,\n",
    "    margin=dict(r=20, b=10, l=10, t=40)\n",
    ")\n",
    "\n",
    "fig.show()"
   ]
  },
  {
   "cell_type": "code",
   "execution_count": 30,
   "id": "6f8d1524-c822-4303-b1a0-a3440cc90f82",
   "metadata": {},
   "outputs": [],
   "source": [
    "similarity_threshold = 0.5\n",
    "\n",
    "class MyVectorStoreRetriever(VectorStoreRetriever):\n",
    "    def _get_relevant_documents(\n",
    "        self, query: str, *, run_manager: CallbackManagerForRetrieverRun\n",
    "    ) -> List[Document]:\n",
    "        docs_and_similarities = (\n",
    "            self.vectorstore.similarity_search_with_relevance_scores(\n",
    "                query, **self.search_kwargs\n",
    "            )\n",
    "        )\n",
    "\n",
    "        # Make the score part of the document metadata\n",
    "        for doc, similarity in docs_and_similarities:\n",
    "            doc.metadata[\"score\"] = similarity\n",
    "\n",
    "        docs = [doc for doc, sim in docs_and_similarities if sim >= self.search_kwargs.get(\"score_threshold\", 0)]\n",
    "        return docs\n",
    "\n",
    "retriever = MyVectorStoreRetriever(\n",
    "   vectorstore=db,\n",
    "   search_type=\"similarity_score_threshold\",\n",
    "   search_kwargs={\"score_threshold\": similarity_threshold, \"k\": 20},\n",
    ")\n",
    "\n",
    "\n",
    "# Add metadata to the context sentto the LLM\n",
    "def inject_metadata(doc: Document) -> Document:\n",
    "    doc_type = doc.metadata.get(\"doc_type\", \"Unknown\")\n",
    "    file_name = doc.metadata.get(\"file_name\", \"Unknown\")\n",
    "    content = f\"[SOURCE: {doc_type} - {file_name}]\\n{doc.page_content}\"\n",
    "    return Document(page_content=content, metadata=doc.metadata)\n",
    "\n",
    "class MetadataInjectingRetriever(BaseRetriever):\n",
    "    base_retriever: BaseRetriever = Field()\n",
    "\n",
    "    def _get_relevant_documents(self, query: str):\n",
    "        docs = self.base_retriever.get_relevant_documents(query)\n",
    "        return [inject_metadata(doc) for doc in docs]\n",
    "\n",
    "retriever = MetadataInjectingRetriever(base_retriever=retriever)"
   ]
  },
  {
   "cell_type": "code",
   "execution_count": 31,
   "id": "6ab9093f-a6be-4ade-98f0-6911f47cb091",
   "metadata": {},
   "outputs": [],
   "source": [
    "llm = ChatOpenAI(temperature=0.7, model_name=MODEL)\n",
    "memory = ConversationBufferMemory(memory_key='chat_history', return_messages=True)"
   ]
  },
  {
   "cell_type": "code",
   "execution_count": 32,
   "id": "c4830b80-5d43-4d23-9ac6-410fc110b74b",
   "metadata": {},
   "outputs": [
    {
     "name": "stdout",
     "output_type": "stream",
     "text": [
      "\n",
      "🧠 Answer: There is no information available regarding the top earners, their salaries, bonuses, or total earnings for 2023 in the retrieved documents.\n"
     ]
    }
   ],
   "source": [
    "# Define your question\n",
    "question = \"Who are the top 3 earners in 2023 with base, bonus, and total. Include names.\"\n",
    "\n",
    "system_prompt = \"\"\"\n",
    "You are an assistant that answers questions about the company Insurellm.\n",
    "\n",
    "Use the following chat history and retrieved documents to answer.\n",
    "\n",
    "Always base your answers strictly on the retrieved documents. If documents contain partial info, respond with what’s available. If there is no info, say so.\n",
    "\n",
    "Do not invent names, roles, or facts.\n",
    "\n",
    "You can use the document source information shown in the format [SOURCE: doc_type - file_name] if it helps you answer the question accurately.\n",
    "\n",
    "Always extract exact numbers (like number of employees, years, revenue, etc.) from the documents if they are mentioned.\n",
    "\n",
    "Chat History:\n",
    "{chat_history}\n",
    "\n",
    "Documents:\n",
    "{context}\n",
    "\n",
    "Question:\n",
    "{input}\n",
    "\"\"\"\n",
    "\n",
    "# Create the prompt template\n",
    "prompt = PromptTemplate(\n",
    "    input_variables=[\"chat_history\", \"context\", \"input\"],\n",
    "    template=system_prompt\n",
    ")\n",
    "\n",
    "# Set up LLM and conversation chain (retriever is assumed to be defined elsewhere)\n",
    "# llm = ChatOpenAI(temperature=0.7, model_name=MODEL)\n",
    "\n",
    "# Create a history-aware retriever\n",
    "history_aware_retriever = create_history_aware_retriever(\n",
    "    llm=llm,\n",
    "    retriever=retriever,\n",
    "    prompt=ChatPromptTemplate.from_messages([\n",
    "        MessagesPlaceholder(variable_name=\"chat_history\"),\n",
    "        (\"user\", \"{input}\"),\n",
    "        (\"user\", \"Given the above conversation, generate a search query to look up in order to get information relevant to the conversation. Only return the query itself, with no extra text.\")\n",
    "    ])\n",
    ")\n",
    "\n",
    "# Create a document combination chain\n",
    "combine_docs_chain = create_stuff_documents_chain(\n",
    "    llm,\n",
    "    ChatPromptTemplate.from_messages([\n",
    "        (\"system\", system_prompt),\n",
    "        MessagesPlaceholder(variable_name=\"chat_history\"),\n",
    "        (\"human\", \"{input}\")\n",
    "    ])\n",
    ")\n",
    "\n",
    "# Create the main retrieval chain\n",
    "retrieval_chain = create_retrieval_chain(history_aware_retriever, combine_docs_chain)\n",
    "\n",
    "# Set up the history store and the conversation chain\n",
    "store = {}\n",
    "def get_session_history(session_id: str) -> ChatMessageHistory:\n",
    "    if session_id not in store:\n",
    "        store[session_id] = ChatMessageHistory()\n",
    "    return store[session_id]\n",
    "\n",
    "# retrieval_chainの出力から、answerキーの値だけを抽出する新しいRunnableを定義\n",
    "# このステップを挟むことで、RootListenersTracerが処理しやすい形式になります。\n",
    "final_chain = retrieval_chain | (lambda x: x['answer'])\n",
    "\n",
    "# Build the conversation chain with the new final_chain\n",
    "conversation_chain = RunnableWithMessageHistory(\n",
    "    final_chain,\n",
    "    get_session_history,\n",
    "    input_messages_key=\"input\",\n",
    "    history_messages_key=\"chat_history\",\n",
    ")\n",
    "\n",
    "# Invoke the chain with the correct input format\n",
    "question = \"Who are the top 3 earners in 2023 with base, bonus, and total. Include names.\"\n",
    "\n",
    "response = conversation_chain.invoke(\n",
    "    {\"input\": question},\n",
    "    config={\"configurable\": {\"session_id\": \"insurellm-session\"}}\n",
    ")\n",
    "\n",
    "print(\"\\n🧠 Answer:\", response)"
   ]
  },
  {
   "cell_type": "code",
   "execution_count": 33,
   "id": "fa85878e-04e4-457e-8775-523194c26409",
   "metadata": {},
   "outputs": [],
   "source": [
    "# 1. Define your system prompt\n",
    "\n",
    "system_prompt = \"\"\"\n",
    "You are an assistant that answers questions about the company Insurellm.\n",
    "\n",
    "Use the following chat history and retrieved documents to answer. Always base your answers strictly on the retrieved documents. If documents contain partial info, respond with what’s available. If there is no info, say so.\n",
    "\n",
    "You can use the document source information shown in the format [SOURCE: doc_type - file_name] if it helps answer the question accurately.\n",
    "\n",
    "Extract exact numbers (like number of employees, years, revenue, etc.) from the documents if mentioned. Do not invent names, roles, or facts.\n",
    "\n",
    "Behavior Guidelines:\n",
    "- Respond only when the user asks a question or requests clarification.\n",
    "- If the user greets you or expresses gratitude, respond warmly, but **avoid repeating the previous answer** unless explicitly requested for more details.\n",
    "- If the user asks \"thank you\" or similar, acknowledge it with gratitude, but **do not provide the same answer again** unless further information is requested.\n",
    "- If the user shares feedback, acknowledge it, thank them, and offer further assistance.\n",
    "- If the user expresses frustration or confusion, empathize, clarify, and offer further support.\n",
    "- If the user doesn't find a clear answer, encourage them to ask for clarification or provide additional details, and offer further assistance.\n",
    "\n",
    "Chat History:\n",
    "{chat_history}\n",
    "\n",
    "Documents:\n",
    "{context}\n",
    "\n",
    "Question:\n",
    "{question}\n",
    "\"\"\"\n"
   ]
  },
  {
   "cell_type": "code",
   "execution_count": 34,
   "id": "e9c1276d-abd0-4766-88d0-a710c030014d",
   "metadata": {},
   "outputs": [],
   "source": [
    "# 2. Create the prompt template\n",
    "\n",
    "prompt = PromptTemplate(\n",
    "    input_variables=[\"chat_history\", \"context\", \"question\"],\n",
    "    template=system_prompt\n",
    ")"
   ]
  },
  {
   "cell_type": "code",
   "execution_count": 35,
   "id": "c0fe0466-7e87-4a40-b398-29d7e821f48f",
   "metadata": {},
   "outputs": [],
   "source": [
    "# 3. Set up LLM, memory, retriever, and the updated chain\n",
    "\n",
    "llm = ChatOpenAI(temperature=0.7, model_name=MODEL)\n",
    "memory = ConversationBufferMemory(memory_key='chat_history', return_messages=True, output_key=\"answer\")\n",
    "conversation_chain = ConversationalRetrievalChain.from_llm(\n",
    "    llm=llm,\n",
    "    retriever=retriever,\n",
    "    memory=memory,\n",
    "    return_source_documents=True,\n",
    "    combine_docs_chain_kwargs={\"prompt\": prompt}\n",
    ")\n",
    "\n",
    "def chat(question, history):\n",
    "    result = conversation_chain.invoke({\"question\": question})\n",
    "    answer = \"\"\n",
    "    for chunk in result[\"answer\"]:\n",
    "        answer += chunk\n",
    "        yield answer"
   ]
  },
  {
   "cell_type": "code",
   "execution_count": 36,
   "id": "2243e89c-c49b-416a-8152-f3679a9e2c05",
   "metadata": {},
   "outputs": [
    {
     "name": "stdout",
     "output_type": "stream",
     "text": [
      "* Running on local URL:  http://127.0.0.1:7860\n",
      "* To create a public link, set `share=True` in `launch()`.\n"
     ]
    },
    {
     "data": {
      "text/html": [
       "<div><iframe src=\"http://127.0.0.1:7860/\" width=\"100%\" height=\"500\" allow=\"autoplay; camera; microphone; clipboard-read; clipboard-write;\" frameborder=\"0\" allowfullscreen></iframe></div>"
      ],
      "text/plain": [
       "<IPython.core.display.HTML object>"
      ]
     },
     "metadata": {},
     "output_type": "display_data"
    }
   ],
   "source": [
    "view = gr.ChatInterface(chat, type=\"messages\").launch(inbrowser=True)"
   ]
  },
  {
   "cell_type": "code",
   "execution_count": null,
   "id": "dc2e4700-8bd9-4745-afb4-7b030f019844",
   "metadata": {},
   "outputs": [],
   "source": []
  }
 ],
 "metadata": {
  "kernelspec": {
   "display_name": "Python 3 (ipykernel)",
   "language": "python",
   "name": "python3"
  },
  "language_info": {
   "codemirror_mode": {
    "name": "ipython",
    "version": 3
   },
   "file_extension": ".py",
   "mimetype": "text/x-python",
   "name": "python",
   "nbconvert_exporter": "python",
   "pygments_lexer": "ipython3",
   "version": "3.11.13"
  }
 },
 "nbformat": 4,
 "nbformat_minor": 5
}
