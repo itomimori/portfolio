{
 "cells": [
  {
   "cell_type": "code",
   "execution_count": 1,
   "id": "8dee7381-2291-4202-a6e6-9eb94e896141",
   "metadata": {
    "id": "8dee7381-2291-4202-a6e6-9eb94e896141"
   },
   "outputs": [],
   "source": [
    "import os\n",
    "from dotenv import load_dotenv\n",
    "from openai import OpenAI\n",
    "import anthropic\n",
    "import gradio as gr\n",
    "import platform"
   ]
  },
  {
   "cell_type": "code",
   "execution_count": 2,
   "id": "bc145e4c-1e06-4414-aa2b-1ea1862b4600",
   "metadata": {
    "id": "bc145e4c-1e06-4414-aa2b-1ea1862b4600"
   },
   "outputs": [],
   "source": [
    "# Load environment variables\n",
    "load_dotenv(override=True)\n",
    "os.environ['OPENAI_API_KEY'] = os.getenv('OPENAI_API_KEY', 'your-key-if-not-using-env')\n",
    "os.environ['ANTHROPIC_API_KEY'] = os.getenv('ANTHROPIC_API_KEY', 'your-key-if-not-using-env')"
   ]
  },
  {
   "cell_type": "code",
   "execution_count": 3,
   "id": "bfaf8584-a10f-43f0-b550-f1b2b6f07160",
   "metadata": {
    "id": "bfaf8584-a10f-43f0-b550-f1b2b6f07160"
   },
   "outputs": [],
   "source": [
    "# Initialize clients\n",
    "openai = OpenAI()\n",
    "claude = anthropic.Anthropic()\n",
    "\n",
    "# Model settings\n",
    "OPENAI_MODEL = \"gpt-4o-mini\"\n",
    "CLAUDE_MODEL = \"claude-3-haiku-20240307\"\n",
    "processor = platform.machine()\n",
    "\n",
    "# OPENAI_MODEL = \"gpt-4o\"\n",
    "# CLAUDE_MODEL = \"claude-3-5-sonnet-20240620\""
   ]
  },
  {
   "cell_type": "code",
   "execution_count": 4,
   "id": "1b47508e-dc60-4db5-a29c-f3f0ed57d894",
   "metadata": {
    "id": "1b47508e-dc60-4db5-a29c-f3f0ed57d894"
   },
   "outputs": [],
   "source": [
    "# Language definitions\n",
    "programming_languages = [\n",
    "    {\"name\": \"C++\", \"extension\": \"cpp\", \"fn\": None},\n",
    "    {\"name\": \"Javascript\", \"extension\": \"js\", \"fn\": None},\n",
    "    {\"name\": \"Php\", \"extension\": \"php\", \"fn\": None}\n",
    "]\n"
   ]
  },
  {
   "cell_type": "code",
   "execution_count": 5,
   "id": "6ee9ec20-3b1d-4a15-9ab3-b2fbb93296b4",
   "metadata": {
    "id": "6ee9ec20-3b1d-4a15-9ab3-b2fbb93296b4"
   },
   "outputs": [],
   "source": [
    "# Prompt generation\n",
    "def get_name_by_extension(extension):\n",
    "    for lang in programming_languages:\n",
    "        if lang[\"extension\"] == extension:\n",
    "            return lang[\"name\"]\n",
    "    return None"
   ]
  },
  {
   "cell_type": "code",
   "execution_count": 6,
   "id": "ee408ffd-fde2-4c1e-b87f-c8dce2ad49bc",
   "metadata": {
    "id": "ee408ffd-fde2-4c1e-b87f-c8dce2ad49bc"
   },
   "outputs": [],
   "source": [
    "\n",
    "def get_system_message(prog_lang):\n",
    "    name = get_name_by_extension(prog_lang)\n",
    "    return (\n",
    "        f\"You are an assistant that reimplements Python code to {name} for an {processor} device. \"\n",
    "        f\"Respond only with code; use comments sparingly and do not provide any explanation other than occasional comments. \"\n",
    "        f\"The {name} response needs to produce an identical output in the fastest possible time. \"\n",
    "        f\"If the used function does not exist for {name}, interchange it for its compatibility and if not, throw an error.\"\n",
    "    )"
   ]
  },
  {
   "cell_type": "code",
   "execution_count": 7,
   "id": "ac8d5d3b-a018-4b94-8080-9b18f5634dc7",
   "metadata": {
    "id": "ac8d5d3b-a018-4b94-8080-9b18f5634dc7"
   },
   "outputs": [],
   "source": [
    "def user_prompt_for(python, prog_lang):\n",
    "    name = get_name_by_extension(prog_lang)\n",
    "    return (\n",
    "        f\"Rewrite this Python code in {name} with the fastest possible implementation that produces identical output in the least time. \"\n",
    "        f\"Respond only with {name} code; do not explain your work other than a few comments. \"\n",
    "        f\"Pay attention to number types to ensure no int overflows\\n\\n{python}\"\n",
    "    )"
   ]
  },
  {
   "cell_type": "code",
   "execution_count": 8,
   "id": "23c58e61-5fdd-41f5-9e60-a0847f4bf86f",
   "metadata": {
    "id": "23c58e61-5fdd-41f5-9e60-a0847f4bf86f"
   },
   "outputs": [],
   "source": [
    "def messages_for(python, prog_lang):\n",
    "    return [\n",
    "        {\"role\": \"system\", \"content\": get_system_message(prog_lang)},\n",
    "        {\"role\": \"user\", \"content\": user_prompt_for(python, prog_lang)}\n",
    "    ]"
   ]
  },
  {
   "cell_type": "code",
   "execution_count": 9,
   "id": "7e193cd6-16f4-440a-9376-6041672f91fc",
   "metadata": {
    "id": "7e193cd6-16f4-440a-9376-6041672f91fc"
   },
   "outputs": [],
   "source": [
    "# Streaming responses\n",
    "def stream_gpt(python, prog_lang):\n",
    "    stream = openai.chat.completions.create(\n",
    "        model=OPENAI_MODEL,\n",
    "        messages=messages_for(python, prog_lang),\n",
    "        stream=True\n",
    "    )\n",
    "    reply = \"\"\n",
    "    for chunk in stream:\n",
    "        fragment = chunk.choices[0].delta.content or \"\"\n",
    "        reply += fragment\n",
    "        yield reply.replace('```cpp\\n', '').replace('javascript\\n', '').replace('```', '')"
   ]
  },
  {
   "cell_type": "code",
   "execution_count": 10,
   "id": "28b0be5e-73b6-49d8-8ef6-8209eace5ee6",
   "metadata": {
    "id": "28b0be5e-73b6-49d8-8ef6-8209eace5ee6"
   },
   "outputs": [],
   "source": [
    "# Sample Python code\n",
    "python_hard = \"\"\"# Be careful to support large number sizes\n",
    "def lcg(seed, a=1664525, c=1013904223, m=2**32):\n",
    "    value = seed\n",
    "    while True:\n",
    "        value = (a * value + c) % m\n",
    "        yield value\n",
    "\n",
    "def max_subarray_sum(n, seed, min_val, max_val):\n",
    "    lcg_gen = lcg(seed)\n",
    "    random_numbers = [next(lcg_gen) % (max_val - min_val + 1) + min_val for _ in range(n)]\n",
    "    max_sum = float('-inf')\n",
    "    for i in range(n):\n",
    "        current_sum = 0\n",
    "        for j in range(i, n):\n",
    "            current_sum += random_numbers[j]\n",
    "            if current_sum > max_sum:\n",
    "                max_sum = current_sum\n",
    "    return max_sum\n",
    "\n",
    "def total_max_subarray_sum(n, initial_seed, min_val, max_val):\n",
    "    total_sum = 0\n",
    "    lcg_gen = lcg(initial_seed)\n",
    "    for _ in range(20):\n",
    "        seed = next(lcg_gen)\n",
    "        total_sum += max_subarray_sum(n, seed, min_val, max_val)\n",
    "    return total_sum\n",
    "\n",
    "# Parameters\n",
    "n = 10000\n",
    "initial_seed = 42\n",
    "min_val = -10\n",
    "max_val = 10\n",
    "\n",
    "# Timing the function\n",
    "import time\n",
    "start_time = time.time()\n",
    "result = total_max_subarray_sum(n, initial_seed, min_val, max_val)\n",
    "end_time = time.time()\n",
    "\n",
    "print(\"Total Maximum Subarray Sum (20 runs):\", result)\n",
    "print(\"Execution Time: {:.6f} seconds\".format(end_time - start_time))\n",
    "\"\"\""
   ]
  },
  {
   "cell_type": "code",
   "execution_count": 11,
   "id": "9e3e0502-8550-46fe-bd2f-394078db6576",
   "metadata": {
    "id": "9e3e0502-8550-46fe-bd2f-394078db6576"
   },
   "outputs": [],
   "source": [
    "def stream_claude(python, prog_lang):\n",
    "    result = claude.messages.stream(\n",
    "        model=CLAUDE_MODEL,\n",
    "        max_tokens=2000,\n",
    "        system=get_system_message(prog_lang),\n",
    "        messages=[{\"role\": \"user\", \"content\": user_prompt_for(python, prog_lang)}],\n",
    "    )\n",
    "    reply = \"\"\n",
    "    with result as stream:\n",
    "        for text in stream.text_stream:\n",
    "            reply += text\n",
    "            yield reply.replace('```cpp\\n', '').replace('javascript\\n', '').replace('```', '')"
   ]
  },
  {
   "cell_type": "code",
   "execution_count": 12,
   "id": "10accbb2-b56d-4c79-beef-928c2a3b58f0",
   "metadata": {
    "id": "10accbb2-b56d-4c79-beef-928c2a3b58f0"
   },
   "outputs": [],
   "source": [
    "def optimize(python, model, prog_lang):\n",
    "    if model == \"GPT\":\n",
    "        result = stream_gpt(python, prog_lang)\n",
    "    elif model == \"Claude\":\n",
    "        result = stream_claude(python, prog_lang)\n",
    "    else:\n",
    "        raise ValueError(\"Unknown model\")\n",
    "    for stream_so_far in result:\n",
    "        yield stream_so_far"
   ]
  },
  {
   "cell_type": "code",
   "execution_count": 13,
   "id": "126636a1-4315-4811-9de9-61ee032effc8",
   "metadata": {
    "colab": {
     "base_uri": "https://localhost:8080/",
     "height": 649
    },
    "id": "126636a1-4315-4811-9de9-61ee032effc8",
    "outputId": "7b451a9f-8741-43f6-c050-b73495cc802e"
   },
   "outputs": [
    {
     "name": "stdout",
     "output_type": "stream",
     "text": [
      "* Running on local URL:  http://127.0.0.1:7861\n",
      "* To create a public link, set `share=True` in `launch()`.\n"
     ]
    },
    {
     "data": {
      "text/html": [
       "<div><iframe src=\"http://127.0.0.1:7861/\" width=\"100%\" height=\"500\" allow=\"autoplay; camera; microphone; clipboard-read; clipboard-write;\" frameborder=\"0\" allowfullscreen></iframe></div>"
      ],
      "text/plain": [
       "<IPython.core.display.HTML object>"
      ]
     },
     "metadata": {},
     "output_type": "display_data"
    }
   ],
   "source": [
    "# Gradio UI\n",
    "with gr.Blocks() as ui:\n",
    "    gr.Markdown(\"# 🔁 Convert Python Code to Other Languages\")\n",
    "    with gr.Row():\n",
    "        with gr.Column():\n",
    "            python = gr.Textbox(label=\"Python code:\", value=python_hard, lines=20)\n",
    "\n",
    "    with gr.Row():\n",
    "        model = gr.Dropdown([\"GPT\", \"Claude\"], label=\"Select model\", value=\"GPT\")\n",
    "\n",
    "    for lang in programming_languages:\n",
    "        with gr.Row():\n",
    "            convert = gr.Button(f\"Convert to {lang['name']}\")\n",
    "            converted_code = gr.Textbox(label=f\"{lang['name']} Code\", lines=20)\n",
    "            current_selected = gr.Dropdown([lang[\"extension\"]], value=lang[\"extension\"], visible=False)\n",
    "            convert.click(optimize, inputs=[python, model, current_selected], outputs=[converted_code])\n",
    "\n",
    "# Launch UI\n",
    "if __name__ == \"__main__\":\n",
    "    ui.launch(inbrowser=True)\n"
   ]
  },
  {
   "cell_type": "code",
   "execution_count": null,
   "id": "beqsAPMOotq0",
   "metadata": {
    "id": "beqsAPMOotq0"
   },
   "outputs": [],
   "source": []
  },
  {
   "cell_type": "code",
   "execution_count": null,
   "id": "9efaa756-d52e-4985-af28-4d78369e0f99",
   "metadata": {},
   "outputs": [],
   "source": []
  }
 ],
 "metadata": {
  "colab": {
   "provenance": []
  },
  "kernelspec": {
   "display_name": "Python 3 (ipykernel)",
   "language": "python",
   "name": "python3"
  },
  "language_info": {
   "codemirror_mode": {
    "name": "ipython",
    "version": 3
   },
   "file_extension": ".py",
   "mimetype": "text/x-python",
   "name": "python",
   "nbconvert_exporter": "python",
   "pygments_lexer": "ipython3",
   "version": "3.11.13"
  }
 },
 "nbformat": 4,
 "nbformat_minor": 5
}
